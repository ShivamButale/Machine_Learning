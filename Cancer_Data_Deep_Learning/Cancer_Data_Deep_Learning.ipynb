{
  "cells": [
    {
      "metadata": {},
      "cell_type": "markdown",
      "source": "# Importing Libraries"
    },
    {
      "metadata": {
        "trusted": true
      },
      "cell_type": "code",
      "source": "import pylab",
      "execution_count": 32,
      "outputs": []
    },
    {
      "metadata": {
        "trusted": true
      },
      "cell_type": "code",
      "source": "import numpy as np",
      "execution_count": 33,
      "outputs": []
    },
    {
      "metadata": {
        "trusted": true
      },
      "cell_type": "code",
      "source": "from keras.models import Sequential",
      "execution_count": 34,
      "outputs": []
    },
    {
      "metadata": {
        "trusted": true
      },
      "cell_type": "code",
      "source": "from keras.layers import Dense, Dropout, Activation",
      "execution_count": 35,
      "outputs": []
    },
    {
      "metadata": {
        "trusted": true
      },
      "cell_type": "code",
      "source": "from keras.layers.advanced_activations import LeakyReLU",
      "execution_count": 36,
      "outputs": []
    },
    {
      "metadata": {
        "trusted": true
      },
      "cell_type": "code",
      "source": "from keras import backend",
      "execution_count": 37,
      "outputs": []
    },
    {
      "metadata": {
        "trusted": true
      },
      "cell_type": "code",
      "source": "from keras.utils import to_categorical",
      "execution_count": 38,
      "outputs": []
    },
    {
      "metadata": {},
      "cell_type": "markdown",
      "source": "# Read in Data"
    },
    {
      "metadata": {
        "trusted": true
      },
      "cell_type": "code",
      "source": "import pandas as pd",
      "execution_count": 39,
      "outputs": []
    },
    {
      "metadata": {
        "trusted": true
      },
      "cell_type": "code",
      "source": "tf_train = pd.read_csv(\"data.csv\")",
      "execution_count": 40,
      "outputs": []
    },
    {
      "metadata": {
        "trusted": true
      },
      "cell_type": "code",
      "source": "tf_test = pd.read_csv(\"data.csv\")",
      "execution_count": 41,
      "outputs": []
    },
    {
      "metadata": {
        "trusted": true
      },
      "cell_type": "code",
      "source": "n = len(tf_train)\nprint(n)",
      "execution_count": 42,
      "outputs": [
        {
          "output_type": "stream",
          "text": "569\n",
          "name": "stdout"
        }
      ]
    },
    {
      "metadata": {
        "trusted": true
      },
      "cell_type": "code",
      "source": "X_train = tf_train.iloc[:, 1:31].values",
      "execution_count": 43,
      "outputs": []
    },
    {
      "metadata": {
        "trusted": true
      },
      "cell_type": "code",
      "source": "X_test = tf_test.iloc[:, 1:31].values",
      "execution_count": 44,
      "outputs": []
    },
    {
      "metadata": {
        "trusted": true
      },
      "cell_type": "code",
      "source": "y_train = tf_train.iloc[:,31].values",
      "execution_count": 45,
      "outputs": []
    },
    {
      "metadata": {
        "trusted": true
      },
      "cell_type": "code",
      "source": "y_test = tf_train.iloc[:,31].values",
      "execution_count": 46,
      "outputs": []
    },
    {
      "metadata": {
        "trusted": true
      },
      "cell_type": "code",
      "source": "idx = y_train;y_train = np.zeros(len(idx));",
      "execution_count": 47,
      "outputs": []
    },
    {
      "metadata": {
        "trusted": true
      },
      "cell_type": "code",
      "source": "y_train[idx == 'M']=1;y_train=y_train.astype(int)",
      "execution_count": 48,
      "outputs": []
    },
    {
      "metadata": {
        "trusted": true
      },
      "cell_type": "code",
      "source": "idx = y_test; y_test = np.zeros(len(idx))",
      "execution_count": 49,
      "outputs": []
    },
    {
      "metadata": {
        "trusted": true
      },
      "cell_type": "code",
      "source": "y_test[idx =='M']=1;y_test = y_test.astype(int)",
      "execution_count": 50,
      "outputs": []
    },
    {
      "metadata": {
        "trusted": true
      },
      "cell_type": "code",
      "source": "Y_train = to_categorical(y_train, 2)",
      "execution_count": 51,
      "outputs": []
    },
    {
      "metadata": {},
      "cell_type": "markdown",
      "source": "# Setup and compile the model"
    },
    {
      "metadata": {
        "trusted": true
      },
      "cell_type": "code",
      "source": "model = Sequential()",
      "execution_count": 52,
      "outputs": []
    },
    {
      "metadata": {
        "trusted": true
      },
      "cell_type": "code",
      "source": "n_units = 512",
      "execution_count": 53,
      "outputs": []
    },
    {
      "metadata": {
        "trusted": true
      },
      "cell_type": "code",
      "source": "data_dim = X_train.shape[1]",
      "execution_count": 54,
      "outputs": []
    },
    {
      "metadata": {
        "trusted": true
      },
      "cell_type": "code",
      "source": "",
      "execution_count": null,
      "outputs": []
    },
    {
      "metadata": {
        "trusted": true
      },
      "cell_type": "code",
      "source": "model.add(Dense(n_units, input_dim= data_dim))\nmodel.add(LeakyReLU())\nmodel.add(Dropout(0.25))",
      "execution_count": 65,
      "outputs": []
    },
    {
      "metadata": {
        "trusted": true
      },
      "cell_type": "code",
      "source": "model.add(Dense(n_units))\nmodel.add(LeakyReLU())\nmodel.add(Dropout(0.25))",
      "execution_count": 64,
      "outputs": []
    },
    {
      "metadata": {
        "trusted": true
      },
      "cell_type": "code",
      "source": "model.add(Dense(n_units))\nmodel.add(LeakyReLU())\nmodel.add(Dropout(0.25))",
      "execution_count": 61,
      "outputs": []
    },
    {
      "metadata": {
        "trusted": true
      },
      "cell_type": "code",
      "source": "model.add(Dense(n_units))\nmodel.add(LeakyReLU())\nmodel.add(Dropout(0.25))",
      "execution_count": 62,
      "outputs": []
    },
    {
      "metadata": {
        "trusted": true
      },
      "cell_type": "code",
      "source": "model.add(Dense(n_units))\nmodel.add(LeakyReLU())\nmodel.add(Dropout(0.25))",
      "execution_count": 63,
      "outputs": []
    },
    {
      "metadata": {
        "trusted": true
      },
      "cell_type": "code",
      "source": "model.add(Dense(2))\nmodel.add(Activation('sigmoid'))",
      "execution_count": 66,
      "outputs": []
    },
    {
      "metadata": {
        "trusted": true
      },
      "cell_type": "code",
      "source": "model.compile(optimizer = 'rmsprop', loss='binary_crossentropy',metrics=['accuracy'] )",
      "execution_count": 67,
      "outputs": []
    },
    {
      "metadata": {},
      "cell_type": "markdown",
      "source": "# Fit the Model"
    },
    {
      "metadata": {
        "trusted": true
      },
      "cell_type": "code",
      "source": "bsize=32",
      "execution_count": 68,
      "outputs": []
    },
    {
      "metadata": {
        "trusted": true
      },
      "cell_type": "code",
      "source": "model.fit(X_train, Y_train,batch_size=bsize, epochs=15, validation_split=0.0, verbose=1 )",
      "execution_count": 69,
      "outputs": [
        {
          "output_type": "stream",
          "text": "Epoch 1/15\n569/569 [==============================] - 3s 5ms/step - loss: 6.2775 - acc: 0.5975\nEpoch 2/15\n569/569 [==============================] - 1s 2ms/step - loss: 5.9726 - acc: 0.6274\nEpoch 3/15\n569/569 [==============================] - 1s 2ms/step - loss: 5.9726 - acc: 0.6274\nEpoch 4/15\n569/569 [==============================] - 1s 1ms/step - loss: 5.9726 - acc: 0.6274\nEpoch 5/15\n569/569 [==============================] - 1s 2ms/step - loss: 5.9726 - acc: 0.6274\nEpoch 6/15\n569/569 [==============================] - 1s 2ms/step - loss: 5.9726 - acc: 0.6274\nEpoch 7/15\n569/569 [==============================] - 1s 2ms/step - loss: 5.9726 - acc: 0.6274\nEpoch 8/15\n569/569 [==============================] - 1s 2ms/step - loss: 5.9726 - acc: 0.6274\nEpoch 9/15\n569/569 [==============================] - 1s 2ms/step - loss: 5.9726 - acc: 0.6274\nEpoch 10/15\n569/569 [==============================] - 1s 2ms/step - loss: 5.9726 - acc: 0.6274\nEpoch 11/15\n569/569 [==============================] - 1s 1ms/step - loss: 5.9726 - acc: 0.6274\nEpoch 12/15\n569/569 [==============================] - 1s 1ms/step - loss: 5.9726 - acc: 0.6274\nEpoch 13/15\n569/569 [==============================] - 1s 1ms/step - loss: 5.9726 - acc: 0.6274\nEpoch 14/15\n569/569 [==============================] - 1s 1ms/step - loss: 5.9726 - acc: 0.6274\nEpoch 15/15\n569/569 [==============================] - 1s 2ms/step - loss: 5.9726 - acc: 0.6274\n",
          "name": "stdout"
        },
        {
          "output_type": "execute_result",
          "execution_count": 69,
          "data": {
            "text/plain": "<keras.callbacks.History at 0x7f3dfc0a94a8>"
          },
          "metadata": {}
        }
      ]
    },
    {
      "metadata": {},
      "cell_type": "markdown",
      "source": "# OUT-SAMPLE ACCURACY"
    },
    {
      "metadata": {
        "trusted": true
      },
      "cell_type": "code",
      "source": "from sklearn.metrics import confusion_matrix",
      "execution_count": 70,
      "outputs": []
    },
    {
      "metadata": {
        "trusted": true
      },
      "cell_type": "code",
      "source": "yhat = model.predict_classes(X_test, batch_size=bsize)",
      "execution_count": 71,
      "outputs": []
    },
    {
      "metadata": {
        "trusted": true
      },
      "cell_type": "code",
      "source": "cm = confusion_matrix(y_test, yhat)",
      "execution_count": 72,
      "outputs": []
    },
    {
      "metadata": {
        "trusted": true
      },
      "cell_type": "code",
      "source": "print(\"Confusion Matrix = \");print(cm)",
      "execution_count": 73,
      "outputs": [
        {
          "output_type": "stream",
          "text": "Confusion Matrix = \n[[357   0]\n [212   0]]\n",
          "name": "stdout"
        }
      ]
    },
    {
      "metadata": {
        "trusted": true
      },
      "cell_type": "code",
      "source": "#import diag\n#acc = sum(diag(cm) / sum(cm))\nacc  = 357/(569)\nprint(acc)",
      "execution_count": 79,
      "outputs": [
        {
          "output_type": "stream",
          "text": "0.6274165202108963\n",
          "name": "stdout"
        }
      ]
    },
    {
      "metadata": {
        "trusted": true
      },
      "cell_type": "code",
      "source": "",
      "execution_count": null,
      "outputs": []
    }
  ],
  "metadata": {
    "kernelspec": {
      "name": "python36",
      "display_name": "Python 3.6",
      "language": "python"
    },
    "language_info": {
      "mimetype": "text/x-python",
      "nbconvert_exporter": "python",
      "name": "python",
      "pygments_lexer": "ipython3",
      "version": "3.6.6",
      "file_extension": ".py",
      "codemirror_mode": {
        "version": 3,
        "name": "ipython"
      }
    }
  },
  "nbformat": 4,
  "nbformat_minor": 2
}