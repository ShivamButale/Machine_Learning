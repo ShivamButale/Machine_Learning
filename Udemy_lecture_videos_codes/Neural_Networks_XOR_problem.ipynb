{
  "cells": [
    {
      "metadata": {
        "trusted": true
      },
      "cell_type": "code",
      "source": "from pybrain.tools.shortcuts import buildNetwork",
      "execution_count": 2,
      "outputs": []
    },
    {
      "metadata": {
        "trusted": true
      },
      "cell_type": "code",
      "source": "!pip install --user pybrain",
      "execution_count": 4,
      "outputs": [
        {
          "output_type": "stream",
          "text": "Collecting pybrain\n  Using cached https://files.pythonhosted.org/packages/be/42/b40b64b7163d360425692db2f15a8c1d8fe4a18f1c5626cf7fcb5f5d5fb6/PyBrain-0.3.tar.gz\nBuilding wheels for collected packages: pybrain\n  Building wheel for pybrain (setup.py) ... \u001b[?25ldone\n\u001b[?25h  Stored in directory: /home/nbuser/.cache/pip/wheels/21/60/92/907b453266e898b6914f7b175c7f346b4d7c349e2e28ce2b53\nSuccessfully built pybrain\nInstalling collected packages: pybrain\nSuccessfully installed pybrain-0.3\n\u001b[33mYou are using pip version 19.0.2, however version 19.0.3 is available.\nYou should consider upgrading via the 'pip install --upgrade pip' command.\u001b[0m\n",
          "name": "stdout"
        }
      ]
    },
    {
      "metadata": {
        "trusted": true,
        "scrolled": true
      },
      "cell_type": "code",
      "source": "!pip install https://github.com/pybrain/pybrain/archive/0.3.3.zip",
      "execution_count": 4,
      "outputs": [
        {
          "output_type": "stream",
          "text": "Collecting https://github.com/pybrain/pybrain/archive/0.3.3.zip\n  Downloading https://github.com/pybrain/pybrain/archive/0.3.3.zip\n\u001b[K     | 8.6MB 8.5MB/sss\nRequirement already satisfied: scipy in /home/nbuser/anaconda3_501/lib/python3.6/site-packages (from PyBrain==0.3.1) (1.1.0)\nBuilding wheels for collected packages: PyBrain\n  Building wheel for PyBrain (setup.py) ... \u001b[?25ldone\n\u001b[?25h  Stored in directory: /tmp/pip-ephem-wheel-cache-blvkj7az/wheels/0b/04/38/2f174aa3c578350870947ca6ab12e0eb89aef3478c9610eb0a\nSuccessfully built PyBrain\nInstalling collected packages: PyBrain\n  Found existing installation: PyBrain 0.3\n    Uninstalling PyBrain-0.3:\n      Successfully uninstalled PyBrain-0.3\nSuccessfully installed PyBrain-0.3.1\n\u001b[33mYou are using pip version 19.0.2, however version 19.0.3 is available.\nYou should consider upgrading via the 'pip install --upgrade pip' command.\u001b[0m\n",
          "name": "stdout"
        }
      ]
    },
    {
      "metadata": {
        "trusted": true
      },
      "cell_type": "code",
      "source": "print(\"HIHI\")",
      "execution_count": 3,
      "outputs": [
        {
          "output_type": "stream",
          "text": "HIHI\n",
          "name": "stdout"
        }
      ]
    },
    {
      "metadata": {
        "trusted": true
      },
      "cell_type": "code",
      "source": "from pybrain.datasets import SupervisedDataSet",
      "execution_count": 4,
      "outputs": []
    },
    {
      "metadata": {
        "trusted": true
      },
      "cell_type": "code",
      "source": "from pybrain.supervised.trainers import BackpropTrainer",
      "execution_count": 5,
      "outputs": []
    },
    {
      "metadata": {
        "trusted": true
      },
      "cell_type": "code",
      "source": "'''\n    XOR OPERATION\n    x   y   x xor y\n    0   0   0\n    1   0   1\n\n'''",
      "execution_count": 6,
      "outputs": [
        {
          "output_type": "execute_result",
          "execution_count": 6,
          "data": {
            "text/plain": "'\\n    XOR OPERATION\\n    x   y   x xor y\\n    0   0   0\\n    1   0   1\\n\\n'"
          },
          "metadata": {}
        }
      ]
    },
    {
      "metadata": {
        "trusted": true
      },
      "cell_type": "code",
      "source": "neuralNetwork = buildNetwork(2,3,1)",
      "execution_count": 7,
      "outputs": []
    },
    {
      "metadata": {
        "trusted": true
      },
      "cell_type": "code",
      "source": "dataSet = SupervisedDataSet(2,1)",
      "execution_count": 8,
      "outputs": []
    },
    {
      "metadata": {
        "trusted": true
      },
      "cell_type": "code",
      "source": "dataSet.addSample((0,0),(0,))\ndataSet.addSample((1,0),(1,))\ndataSet.addSample((0,1),(1,))\ndataSet.addSample((1,1),(0,))",
      "execution_count": 9,
      "outputs": []
    },
    {
      "metadata": {
        "trusted": true
      },
      "cell_type": "code",
      "source": "trainer = BackpropTrainer(neuralNetwork, dataSet)",
      "execution_count": 10,
      "outputs": []
    },
    {
      "metadata": {
        "trusted": true
      },
      "cell_type": "code",
      "source": "for i in range(1, 100000):\n    trainer.train()\n    \n    if i%1000 == 0:\n        print(neuralNetwork.activate([0,0]))\n        print(neuralNetwork.activate([1,0]))\n        print(neuralNetwork.activate([0,1]))\n        print(neuralNetwork.activate([1,1]))",
      "execution_count": 11,
      "outputs": [
        {
          "output_type": "stream",
          "text": "[0.50516215]\n[0.59326819]\n[0.41442187]\n[0.47840734]\n[0.47527445]\n[0.57690131]\n[0.47055213]\n[0.46837135]\n[0.42886338]\n[0.61947681]\n[0.52629931]\n[0.40905915]\n[0.29782901]\n[0.74148185]\n[0.67693268]\n[0.27449178]\n[0.12039262]\n[0.89358925]\n[0.86831786]\n[0.11169487]\n[0.03289625]\n[0.97024779]\n[0.96335817]\n[0.03151375]\n[0.00785205]\n[0.99274933]\n[0.99110856]\n[0.00776963]\n[0.00181464]\n[0.99828743]\n[0.99790351]\n[0.00182028]\n[0.0004233]\n[0.9996065]\n[0.99951473]\n[0.00042799]\n[9.74412301e-05]\n[0.99990817]\n[0.99988685]\n[9.88627843e-05]\n[2.26515936e-05]\n[0.99997875]\n[0.99997385]\n[2.30033994e-05]\n[5.23258436e-06]\n[0.99999507]\n[0.99999392]\n[5.32485023e-06]\n[1.22965857e-06]\n[0.99999887]\n[0.99999861]\n[1.25212114e-06]\n[2.8384831e-07]\n[0.99999974]\n[0.99999968]\n[2.88834792e-07]\n[6.58036128e-08]\n[0.99999994]\n[0.99999992]\n[6.68934216e-08]\n[1.52657826e-08]\n[0.99999999]\n[0.99999998]\n[1.55609983e-08]\n[3.5084351e-09]\n[1.]\n[1.]\n[3.56783447e-09]\n[8.16711809e-10]\n[1.]\n[1.]\n[8.3100804e-10]\n[1.89930516e-10]\n[1.]\n[1.]\n[1.93573269e-10]\n[4.36561898e-11]\n[1.]\n[1.]\n[4.44667636e-11]\n[1.02355902e-11]\n[1.]\n[1.]\n[1.04515285e-11]\n[2.37221354e-12]\n[1.]\n[1.]\n[2.41850984e-12]\n[5.47117907e-13]\n[1.]\n[1.]\n[5.69544412e-13]\n[1.32671651e-13]\n[1.]\n[1.]\n[1.23123733e-13]\n[1.45439216e-14]\n[1.]\n[1.]\n[5.55111512e-14]\n[1.42108547e-14]\n[1.]\n[1.]\n[5.56221735e-14]\n[1.40998324e-14]\n[1.]\n[1.]\n[5.54001289e-14]\n[1.42108547e-14]\n[1.]\n[1.]\n[5.56221735e-14]\n[1.45439216e-14]\n[1.]\n[1.]\n[5.60662627e-14]\n[1.42108547e-14]\n[1.]\n[1.]\n[5.56221735e-14]\n[1.44328993e-14]\n[1.]\n[1.]\n[5.58442181e-14]\n[1.44328993e-14]\n[1.]\n[1.]\n[5.58442181e-14]\n[1.40998324e-14]\n[1.]\n[1.]\n[5.54001289e-14]\n[1.42108547e-14]\n[1.]\n[1.]\n[5.56221735e-14]\n[1.42108547e-14]\n[1.]\n[1.]\n[5.56221735e-14]\n[1.38777878e-14]\n[1.]\n[1.]\n[5.51780843e-14]\n[1.40998324e-14]\n[1.]\n[1.]\n[5.54001289e-14]\n[1.44328993e-14]\n[1.]\n[1.]\n[5.58442181e-14]\n[1.40998324e-14]\n[1.]\n[1.]\n[5.54001289e-14]\n[1.40998324e-14]\n[1.]\n[1.]\n[5.54001289e-14]\n[1.40998324e-14]\n[1.]\n[1.]\n[5.54001289e-14]\n[1.37667655e-14]\n[1.]\n[1.]\n[5.49560397e-14]\n[1.40998324e-14]\n[1.]\n[1.]\n[5.54001289e-14]\n[1.40998324e-14]\n[1.]\n[1.]\n[5.54001289e-14]\n[1.38777878e-14]\n[1.]\n[1.]\n[5.5067062e-14]\n[1.42108547e-14]\n[1.]\n[1.]\n[5.55111512e-14]\n[1.39888101e-14]\n[1.]\n[1.]\n[5.52891066e-14]\n[1.42108547e-14]\n[1.]\n[1.]\n[5.55111512e-14]\n[1.38777878e-14]\n[1.]\n[1.]\n[5.5067062e-14]\n[1.39888101e-14]\n[1.]\n[1.]\n[5.52891066e-14]\n[1.39888101e-14]\n[1.]\n[1.]\n[5.52891066e-14]\n[1.39888101e-14]\n[1.]\n[1.]\n[5.52891066e-14]\n[1.40998324e-14]\n[1.]\n[1.]\n[5.6177285e-14]\n[1.38777878e-14]\n[1.]\n[1.]\n[5.56221735e-14]\n[1.39888101e-14]\n[1.]\n[1.]\n[5.58442181e-14]\n[1.38777878e-14]\n[1.]\n[1.]\n[5.56221735e-14]\n[1.39888101e-14]\n[1.]\n[1.]\n[5.58442181e-14]\n[1.38777878e-14]\n[1.]\n[1.]\n[5.56221735e-14]\n[1.38777878e-14]\n[1.]\n[1.]\n[5.56221735e-14]\n[1.36557432e-14]\n[1.]\n[1.]\n[5.54001289e-14]\n[1.38777878e-14]\n[1.]\n[1.]\n[5.56221735e-14]\n[1.39888101e-14]\n[1.]\n[1.]\n[5.58442181e-14]\n[1.39888101e-14]\n[1.]\n[1.]\n[5.58442181e-14]\n[1.42108547e-14]\n[1.]\n[1.]\n[5.60662627e-14]\n[1.36557432e-14]\n[1.]\n[1.]\n[5.54001289e-14]\n[1.39888101e-14]\n[1.]\n[1.]\n[5.58442181e-14]\n[1.36557432e-14]\n[1.]\n[1.]\n[5.54001289e-14]\n[1.36557432e-14]\n[1.]\n[1.]\n[5.54001289e-14]\n[1.35447209e-14]\n[1.]\n[1.]\n[5.51780843e-14]\n[1.39888101e-14]\n[1.]\n[1.]\n[5.58442181e-14]\n[1.39888101e-14]\n[1.]\n[1.]\n[5.58442181e-14]\n[1.39888101e-14]\n[1.]\n[1.]\n[5.58442181e-14]\n[1.35447209e-14]\n[1.]\n[1.]\n[5.51780843e-14]\n[1.38777878e-14]\n[1.]\n[1.]\n[5.56221735e-14]\n[1.38777878e-14]\n[1.]\n[1.]\n[5.56221735e-14]\n[1.38777878e-14]\n[1.]\n[1.]\n[5.56221735e-14]\n[1.35447209e-14]\n[1.]\n[1.]\n[5.51780843e-14]\n[1.36557432e-14]\n[1.]\n[1.]\n[5.54001289e-14]\n[1.38777878e-14]\n[1.]\n[1.]\n[5.56221735e-14]\n[1.36557432e-14]\n[1.]\n[1.]\n[5.54001289e-14]\n[1.36557432e-14]\n[1.]\n[1.]\n[5.54001289e-14]\n[1.38777878e-14]\n[1.]\n[1.]\n[5.56221735e-14]\n[1.39888101e-14]\n[1.]\n[1.]\n[5.58442181e-14]\n[1.36557432e-14]\n[1.]\n[1.]\n[5.54001289e-14]\n[1.36557432e-14]\n[1.]\n[1.]\n[5.54001289e-14]\n[1.38777878e-14]\n[1.]\n[1.]\n[5.56221735e-14]\n[1.39888101e-14]\n[1.]\n[1.]\n[5.58442181e-14]\n[1.36557432e-14]\n[1.]\n[1.]\n[5.54001289e-14]\n[1.38777878e-14]\n[1.]\n[1.]\n[5.56221735e-14]\n[1.38777878e-14]\n[1.]\n[1.]\n[5.56221735e-14]\n[1.36557432e-14]\n[1.]\n[1.]\n[5.54001289e-14]\n[1.38777878e-14]\n[1.]\n[1.]\n[5.56221735e-14]\n[1.38777878e-14]\n[1.]\n[1.]\n[5.56221735e-14]\n[1.38777878e-14]\n[1.]\n[1.]\n[5.56221735e-14]\n[1.36557432e-14]\n[1.]\n[1.]\n[5.54001289e-14]\n[1.39888101e-14]\n[1.]\n[1.]\n[5.58442181e-14]\n[1.38777878e-14]\n[1.]\n[1.]\n[5.56221735e-14]\n[1.38777878e-14]\n[1.]\n[1.]\n[5.56221735e-14]\n[1.38777878e-14]\n[1.]\n[1.]\n[5.56221735e-14]\n",
          "name": "stdout"
        }
      ]
    },
    {
      "metadata": {
        "trusted": true
      },
      "cell_type": "code",
      "source": "",
      "execution_count": null,
      "outputs": []
    }
  ],
  "metadata": {
    "kernelspec": {
      "name": "python36",
      "display_name": "Python 3.6",
      "language": "python"
    },
    "language_info": {
      "mimetype": "text/x-python",
      "nbconvert_exporter": "python",
      "name": "python",
      "pygments_lexer": "ipython3",
      "version": "3.6.6",
      "file_extension": ".py",
      "codemirror_mode": {
        "version": 3,
        "name": "ipython"
      }
    }
  },
  "nbformat": 4,
  "nbformat_minor": 2
}