{
  "cells": [
    {
      "metadata": {
        "trusted": true
      },
      "cell_type": "code",
      "source": "print(\"Hello\")",
      "execution_count": 1,
      "outputs": [
        {
          "output_type": "stream",
          "text": "Hello\n",
          "name": "stdout"
        }
      ]
    },
    {
      "metadata": {
        "trusted": true
      },
      "cell_type": "code",
      "source": "from pybrain.datasets import ClassificationDataSet",
      "execution_count": 2,
      "outputs": []
    },
    {
      "metadata": {
        "trusted": true
      },
      "cell_type": "code",
      "source": "from pybrain.utilities import percentError",
      "execution_count": 3,
      "outputs": []
    },
    {
      "metadata": {
        "trusted": true
      },
      "cell_type": "code",
      "source": "from pybrain.tools.shortcuts import buildNetwork",
      "execution_count": 4,
      "outputs": []
    },
    {
      "metadata": {
        "trusted": true
      },
      "cell_type": "code",
      "source": "from pybrain.supervised.trainers import BackpropTrainer",
      "execution_count": 5,
      "outputs": []
    },
    {
      "metadata": {
        "trusted": true
      },
      "cell_type": "code",
      "source": "from pybrain.structure.modules import SoftmaxLayer",
      "execution_count": 6,
      "outputs": []
    },
    {
      "metadata": {
        "trusted": true
      },
      "cell_type": "code",
      "source": "from pybrain.tools.customxml.networkwriter import NetworkWriter\nfrom pybrain.tools.customxml.networkreader import NetworkReader\n'''\ntstdata_temp, trndata_temp = alldata.splitWithProportion(0.25)\n\ntstdata = ClassificationDataSet(2, 1, nb_classes=3)\nfor n in xrange(0, tstdata_temp.getLength()):\n    tstdata.addSample( tstdata_temp.getSample(n)[0], tstdata_temp.getSample(n)[1] )\n\ntrndata = ClassificationDataSet(2, 1, nb_classes=3)\nfor n in xrange(0, trndata_temp.getLength()):\n    trndata.addSample( trndata_temp.getSample(n)[0], trndata_temp.getSample(n)[1] )\n    '''",
      "execution_count": 7,
      "outputs": [
        {
          "output_type": "execute_result",
          "execution_count": 7,
          "data": {
            "text/plain": "'\\ntstdata_temp, trndata_temp = alldata.splitWithProportion(0.25)\\n\\ntstdata = ClassificationDataSet(2, 1, nb_classes=3)\\nfor n in xrange(0, tstdata_temp.getLength()):\\n    tstdata.addSample( tstdata_temp.getSample(n)[0], tstdata_temp.getSample(n)[1] )\\n\\ntrndata = ClassificationDataSet(2, 1, nb_classes=3)\\nfor n in xrange(0, trndata_temp.getLength()):\\n    trndata.addSample( trndata_temp.getSample(n)[0], trndata_temp.getSample(n)[1] )\\n    '"
          },
          "metadata": {}
        }
      ]
    },
    {
      "metadata": {
        "trusted": true
      },
      "cell_type": "code",
      "source": "from pylab import ion, ioff, figure, draw, contourf, clf, show, plot",
      "execution_count": 8,
      "outputs": []
    },
    {
      "metadata": {
        "trusted": true
      },
      "cell_type": "code",
      "source": "from scipy import diag, arange, meshgrid, where",
      "execution_count": 9,
      "outputs": []
    },
    {
      "metadata": {
        "trusted": true
      },
      "cell_type": "code",
      "source": "from numpy.random import multivariate_normal",
      "execution_count": 10,
      "outputs": []
    },
    {
      "metadata": {
        "trusted": true
      },
      "cell_type": "code",
      "source": "import matplotlib.cm as cm\n",
      "execution_count": 11,
      "outputs": []
    },
    {
      "metadata": {
        "trusted": true
      },
      "cell_type": "code",
      "source": "import matplotlib.pyplot as plt",
      "execution_count": 12,
      "outputs": []
    },
    {
      "metadata": {
        "trusted": true
      },
      "cell_type": "code",
      "source": "from random import normalvariate",
      "execution_count": 13,
      "outputs": []
    },
    {
      "metadata": {
        "trusted": true
      },
      "cell_type": "code",
      "source": "import numpy as np",
      "execution_count": 14,
      "outputs": []
    },
    {
      "metadata": {
        "trusted": true
      },
      "cell_type": "code",
      "source": "from sklearn import datasets",
      "execution_count": 15,
      "outputs": []
    },
    {
      "metadata": {
        "trusted": true
      },
      "cell_type": "code",
      "source": "'''\nolivetti dataset -> 400 images..........10 images/person\nthere are 10 different images of each of 40 distinct subjects\nfor some subjects, the images were taken at different times , varying the lighting , facila expressions (open/closed eyes, smiling/not smiling) and facial details(glasses/no glasses)\n\nSo we have 40 target / 40 person !!!\n64 bit x 64 bit images : number of features = 64 x 64 = 4096\n\n\n'''",
      "execution_count": 16,
      "outputs": [
        {
          "output_type": "execute_result",
          "execution_count": 16,
          "data": {
            "text/plain": "'\\nolivetti dataset -> 400 images..........10 images/person\\nthere are 10 different images of each of 40 distinct subjects\\nfor some subjects, the images were taken at different times , varying the lighting , facila expressions (open/closed eyes, smiling/not smiling) and facial details(glasses/no glasses)\\n\\nSo we have 40 target / 40 person !!!\\n64 bit x 64 bit images : number of features = 64 x 64 = 4096\\n\\n\\n'"
          },
          "metadata": {}
        }
      ]
    },
    {
      "metadata": {
        "trusted": true
      },
      "cell_type": "code",
      "source": "olivettiData = datasets.fetch_olivetti_faces()",
      "execution_count": 17,
      "outputs": []
    },
    {
      "metadata": {
        "trusted": true
      },
      "cell_type": "code",
      "source": "dataFeatures = olivettiData.data",
      "execution_count": 18,
      "outputs": []
    },
    {
      "metadata": {
        "trusted": true
      },
      "cell_type": "code",
      "source": "dataTargets = olivettiData.target",
      "execution_count": 19,
      "outputs": []
    },
    {
      "metadata": {
        "trusted": true
      },
      "cell_type": "code",
      "source": "plt.matshow(olivettiData.images[1], cmap=cm.Greys_r)",
      "execution_count": 20,
      "outputs": [
        {
          "output_type": "execute_result",
          "execution_count": 20,
          "data": {
            "text/plain": "<matplotlib.image.AxesImage at 0x7f1ea132d198>"
          },
          "metadata": {}
        },
        {
          "output_type": "display_data",
          "data": {
            "image/png": "[encoded data removed]",
            "text/plain": "<Figure size 288x288 with 1 Axes>"
          },
          "metadata": {
            "needs_background": "light"
          }
        }
      ]
    },
    {
      "metadata": {
        "trusted": true
      },
      "cell_type": "code",
      "source": "plt.show()",
      "execution_count": 21,
      "outputs": []
    },
    {
      "metadata": {
        "trusted": true
      },
      "cell_type": "code",
      "source": "print(dataTargets[11])",
      "execution_count": 22,
      "outputs": [
        {
          "output_type": "stream",
          "text": "1\n",
          "name": "stdout"
        }
      ]
    },
    {
      "metadata": {
        "trusted": true
      },
      "cell_type": "code",
      "source": "print(dataFeatures.shape)",
      "execution_count": 23,
      "outputs": [
        {
          "output_type": "stream",
          "text": "(400, 4096)\n",
          "name": "stdout"
        }
      ]
    },
    {
      "metadata": {
        "trusted": true
      },
      "cell_type": "code",
      "source": "dataSet =ClassificationDataSet(4096, 1, nb_classes=40)",
      "execution_count": 24,
      "outputs": []
    },
    {
      "metadata": {
        "trusted": true
      },
      "cell_type": "code",
      "source": "for i in range(len(dataFeatures)):\n    dataSet.addSample(np.ravel(dataFeatures[i]), dataTargets[i])",
      "execution_count": 25,
      "outputs": []
    },
    {
      "metadata": {
        "trusted": true
      },
      "cell_type": "code",
      "source": "testData, trainingData = dataSet.splitWithProportion(0.25)\n\n",
      "execution_count": 26,
      "outputs": []
    },
    {
      "metadata": {
        "trusted": true
      },
      "cell_type": "code",
      "source": "trainingData._convertToOneOfMany()\n",
      "execution_count": 27,
      "outputs": []
    },
    {
      "metadata": {
        "trusted": true
      },
      "cell_type": "code",
      "source": "#testData._convertToOneOfMany()",
      "execution_count": 34,
      "outputs": [
        {
          "output_type": "error",
          "ename": "IndexError",
          "evalue": "index 39 is out of bounds for axis 1 with size 39",
          "traceback": [
            "\u001b[0;31m---------------------------------------------------------------------------\u001b[0m",
            "\u001b[0;31mIndexError\u001b[0m                                Traceback (most recent call last)",
            "\u001b[0;32m<ipython-input-34-c8d136cb382e>\u001b[0m in \u001b[0;36m<module>\u001b[0;34m\u001b[0m\n\u001b[0;32m----> 1\u001b[0;31m \u001b[0mtestData\u001b[0m\u001b[0;34m.\u001b[0m\u001b[0m_convertToOneOfMany\u001b[0m\u001b[0;34m(\u001b[0m\u001b[0;34m)\u001b[0m\u001b[0;34m\u001b[0m\u001b[0m\n\u001b[0m",
            "\u001b[0;32m~/anaconda3_501/lib/python3.6/site-packages/pybrain/datasets/classification.py\u001b[0m in \u001b[0;36m_convertToOneOfMany\u001b[0;34m(self, bounds)\u001b[0m\n\u001b[1;32m    142\u001b[0m         \u001b[0mnewtarg\u001b[0m \u001b[0;34m=\u001b[0m \u001b[0mzeros\u001b[0m\u001b[0;34m(\u001b[0m\u001b[0;34m[\u001b[0m\u001b[0mlen\u001b[0m\u001b[0;34m(\u001b[0m\u001b[0mself\u001b[0m\u001b[0;34m)\u001b[0m\u001b[0;34m,\u001b[0m \u001b[0mself\u001b[0m\u001b[0;34m.\u001b[0m\u001b[0mnClasses\u001b[0m\u001b[0;34m]\u001b[0m\u001b[0;34m,\u001b[0m \u001b[0mdtype\u001b[0m\u001b[0;34m=\u001b[0m\u001b[0;34m'Int32'\u001b[0m\u001b[0;34m)\u001b[0m \u001b[0;34m+\u001b[0m \u001b[0mbounds\u001b[0m\u001b[0;34m[\u001b[0m\u001b[0;36m0\u001b[0m\u001b[0;34m]\u001b[0m\u001b[0;34m\u001b[0m\u001b[0m\n\u001b[1;32m    143\u001b[0m         \u001b[0;32mfor\u001b[0m \u001b[0mi\u001b[0m \u001b[0;32min\u001b[0m \u001b[0mrange\u001b[0m\u001b[0;34m(\u001b[0m\u001b[0mlen\u001b[0m\u001b[0;34m(\u001b[0m\u001b[0mself\u001b[0m\u001b[0;34m)\u001b[0m\u001b[0;34m-\u001b[0m\u001b[0;36m1\u001b[0m\u001b[0;34m)\u001b[0m\u001b[0;34m:\u001b[0m\u001b[0;34m\u001b[0m\u001b[0m\n\u001b[0;32m--> 144\u001b[0;31m             \u001b[0mnewtarg\u001b[0m\u001b[0;34m[\u001b[0m\u001b[0mi\u001b[0m\u001b[0;34m,\u001b[0m \u001b[0mint\u001b[0m\u001b[0;34m(\u001b[0m\u001b[0moldtarg\u001b[0m\u001b[0;34m[\u001b[0m\u001b[0mi\u001b[0m\u001b[0;34m]\u001b[0m\u001b[0;34m)\u001b[0m\u001b[0;34m]\u001b[0m \u001b[0;34m=\u001b[0m \u001b[0mbounds\u001b[0m\u001b[0;34m[\u001b[0m\u001b[0;36m1\u001b[0m\u001b[0;34m]\u001b[0m\u001b[0;34m\u001b[0m\u001b[0m\n\u001b[0m\u001b[1;32m    145\u001b[0m         \u001b[0mself\u001b[0m\u001b[0;34m.\u001b[0m\u001b[0msetField\u001b[0m\u001b[0;34m(\u001b[0m\u001b[0;34m'target'\u001b[0m\u001b[0;34m,\u001b[0m \u001b[0mnewtarg\u001b[0m\u001b[0;34m)\u001b[0m\u001b[0;34m\u001b[0m\u001b[0m\n\u001b[1;32m    146\u001b[0m         \u001b[0mself\u001b[0m\u001b[0;34m.\u001b[0m\u001b[0msetField\u001b[0m\u001b[0;34m(\u001b[0m\u001b[0;34m'class'\u001b[0m\u001b[0;34m,\u001b[0m \u001b[0moldtarg\u001b[0m\u001b[0;34m)\u001b[0m\u001b[0;34m\u001b[0m\u001b[0m\n",
            "\u001b[0;31mIndexError\u001b[0m: index 39 is out of bounds for axis 1 with size 39"
          ]
        }
      ]
    },
    {
      "metadata": {
        "trusted": true
      },
      "cell_type": "code",
      "source": "neuralNetwork = buildNetwork(trainingData.indim, 64, trainingData.outdim, outclass = SoftmaxLayer)",
      "execution_count": 30,
      "outputs": []
    },
    {
      "metadata": {
        "trusted": true
      },
      "cell_type": "code",
      "source": "trainer = BackpropTrainer(neuralNetwork, dataset=trainingData, momentum=0.2, learningrate=0.1, verbose=True, weightdecay=0.02)\n",
      "execution_count": 31,
      "outputs": []
    },
    {
      "metadata": {
        "trusted": true
      },
      "cell_type": "code",
      "source": "trainer.trainEpochs(350)",
      "execution_count": 32,
      "outputs": [
        {
          "output_type": "stream",
          "text": "Total error:  0.0142353335293\nTotal error:  0.0136908156702\nTotal error:  0.0132120965684\nTotal error:  0.0123050479326\nTotal error:  0.0121901863116\nTotal error:  0.0121857712544\nTotal error:  0.0121716240511\nTotal error:  0.0121650882762\nTotal error:  0.0121638987995\nTotal error:  0.0121610171649\nTotal error:  0.0121636402451\nTotal error:  0.0121616719711\nTotal error:  0.01216640894\nTotal error:  0.0121620279071\nTotal error:  0.0121586407983\nTotal error:  0.0121620363137\nTotal error:  0.0121614238597\nTotal error:  0.0121614877595\nTotal error:  0.0121733209518\nTotal error:  0.012157278839\nTotal error:  0.0121624025117\nTotal error:  0.0121571029665\nTotal error:  0.0121565025003\nTotal error:  0.0121626065743\nTotal error:  0.0121563737466\nTotal error:  0.0121635665428\nTotal error:  0.0121591171061\nTotal error:  0.0121645684345\nTotal error:  0.0121597122551\nTotal error:  0.0121609939648\nTotal error:  0.0121582507725\nTotal error:  0.0121671048385\nTotal error:  0.0121591695297\nTotal error:  0.0121624590703\nTotal error:  0.0121550173152\nTotal error:  0.0121612198136\nTotal error:  0.0121582808625\nTotal error:  0.0121587039556\nTotal error:  0.0121584732707\nTotal error:  0.0121582565513\nTotal error:  0.0121625267631\nTotal error:  0.0121672933468\nTotal error:  0.012167294295\nTotal error:  0.0121578786343\nTotal error:  0.0121584751731\nTotal error:  0.0121623898786\nTotal error:  0.0121603421077\nTotal error:  0.012165262694\nTotal error:  0.0121625533072\nTotal error:  0.0121628324223\nTotal error:  0.0121574779622\nTotal error:  0.012165028447\nTotal error:  0.0121665314367\nTotal error:  0.0121582767488\nTotal error:  0.0121583166185\nTotal error:  0.0121574346343\nTotal error:  0.0121569280357\nTotal error:  0.012160205283\nTotal error:  0.0121603544975\nTotal error:  0.012158791725\nTotal error:  0.0121579225974\nTotal error:  0.0121540390904\nTotal error:  0.0121628453606\nTotal error:  0.0121598249098\nTotal error:  0.012159918925\nTotal error:  0.012164247985\nTotal error:  0.0121649968313\nTotal error:  0.0121607559598\nTotal error:  0.0121784078972\nTotal error:  0.012160407772\nTotal error:  0.0121699262452\nTotal error:  0.0121581092701\nTotal error:  0.0121600749093\nTotal error:  0.0121607162132\nTotal error:  0.0121599452396\nTotal error:  0.0121561747348\nTotal error:  0.0121615976802\nTotal error:  0.0121646310562\nTotal error:  0.012162632722\nTotal error:  0.0121599641828\nTotal error:  0.0121595855965\nTotal error:  0.0121598791488\nTotal error:  0.0121600067117\nTotal error:  0.0121624387303\nTotal error:  0.0121576950108\nTotal error:  0.0121551789853\nTotal error:  0.012156049403\nTotal error:  0.0121576429608\nTotal error:  0.0121571174717\nTotal error:  0.0121619690578\nTotal error:  0.0121567144913\nTotal error:  0.0121533051854\nTotal error:  0.0121622791006\nTotal error:  0.012152070854\nTotal error:  0.012161483123\nTotal error:  0.0121562480488\nTotal error:  0.0121574968505\nTotal error:  0.0121526645411\nTotal error:  0.0121587993126\nTotal error:  0.012157599594\nTotal error:  0.012153800238\nTotal error:  0.0121742690664\nTotal error:  0.0121674303985\nTotal error:  0.0121721285305\nTotal error:  0.0121593116177\nTotal error:  0.0121656192392\nTotal error:  0.0121627300381\nTotal error:  0.012156365609\nTotal error:  0.0121584777607\nTotal error:  0.0121575180164\nTotal error:  0.0121784211296\nTotal error:  0.0121630875523\nTotal error:  0.0121662739703\nTotal error:  0.0121598291906\nTotal error:  0.0121608810394\nTotal error:  0.0121597721466\nTotal error:  0.0121577990896\nTotal error:  0.0121567909781\nTotal error:  0.012161425095\nTotal error:  0.0121574264269\nTotal error:  0.0121610728735\nTotal error:  0.012160215187\nTotal error:  0.0121565363793\nTotal error:  0.0121634676986\nTotal error:  0.0121578411869\nTotal error:  0.0121580532474\nTotal error:  0.0121572941259\nTotal error:  0.0121600256012\nTotal error:  0.0121589970377\nTotal error:  0.0121652786072\nTotal error:  0.012156388428\nTotal error:  0.0121635782313\nTotal error:  0.0121648811238\nTotal error:  0.0121639611677\nTotal error:  0.0121646140732\nTotal error:  0.0121629787481\nTotal error:  0.0121649955192\nTotal error:  0.0121643306572\nTotal error:  0.0121672924404\nTotal error:  0.0121699855845\nTotal error:  0.0121617469215\nTotal error:  0.0121585164882\nTotal error:  0.0121610179781\nTotal error:  0.0121588396453\nTotal error:  0.0121618244406\nTotal error:  0.0121711435124\nTotal error:  0.0121684342148\nTotal error:  0.0121664265565\nTotal error:  0.0121631061167\nTotal error:  0.0121835258922\nTotal error:  0.0121677071574\nTotal error:  0.0121696858776\nTotal error:  0.0121614345402\nTotal error:  0.0121797402626\nTotal error:  0.0121648065642\nTotal error:  0.0121657525738\nTotal error:  0.0121603946972\nTotal error:  0.0121614608856\nTotal error:  0.0121581103219\nTotal error:  0.0121620564279\nTotal error:  0.0121618624485\nTotal error:  0.0121626728417\nTotal error:  0.0121671881053\nTotal error:  0.0121631745586\nTotal error:  0.0121577791878\nTotal error:  0.0121590959664\nTotal error:  0.0121607966988\nTotal error:  0.0121594171095\nTotal error:  0.0121656056568\nTotal error:  0.0121825603655\nTotal error:  0.0121561535739\nTotal error:  0.0121630057813\nTotal error:  0.0121585958102\nTotal error:  0.0121609673146\nTotal error:  0.012159707102\nTotal error:  0.0121585875678\nTotal error:  0.0121601740579\nTotal error:  0.0121582891167\nTotal error:  0.0121568393356\nTotal error:  0.0121714696844\nTotal error:  0.0121532237974\nTotal error:  0.0121609941225\nTotal error:  0.0121591684299\nTotal error:  0.0121602643426\nTotal error:  0.012157201685\nTotal error:  0.0121585363585\nTotal error:  0.0121661684249\nTotal error:  0.0121619490769\nTotal error:  0.0121585319598\nTotal error:  0.0121593457187\nTotal error:  0.0121605634009\nTotal error:  0.0121840268848\nTotal error:  0.0121548686811\nTotal error:  0.0121575606264\nTotal error:  0.0121652729542\nTotal error:  0.0121573422246\nTotal error:  0.0121611567717\nTotal error:  0.0121642077301\nTotal error:  0.0121642317918\nTotal error:  0.0121602294535\nTotal error:  0.0121626731517\nTotal error:  0.0121563348086\nTotal error:  0.0121593822273\nTotal error:  0.0121647207439\nTotal error:  0.012161492\nTotal error:  0.0121591959682\nTotal error:  0.0121611402075\nTotal error:  0.0121682896396\nTotal error:  0.0121699765629\nTotal error:  0.0121620341975\nTotal error:  0.0121639319259\nTotal error:  0.0121609933988\nTotal error:  0.0121590873917\nTotal error:  0.0121573171231\nTotal error:  0.0121682311357\nTotal error:  0.0121682372814\nTotal error:  0.0121571177871\nTotal error:  0.0121615051611\nTotal error:  0.0121562362582\nTotal error:  0.0121605953157\nTotal error:  0.0121583105361\nTotal error:  0.01215722912\nTotal error:  0.0121616767919\nTotal error:  0.0121596848596\nTotal error:  0.0121569658123\nTotal error:  0.0121613105851\nTotal error:  0.0121633164984\nTotal error:  0.0121656684352\nTotal error:  0.0121561319334\nTotal error:  0.0121683034076\nTotal error:  0.0121692851679\nTotal error:  0.0121990636689\nTotal error:  0.0121583575651\nTotal error:  0.0121700621575\nTotal error:  0.0121716814859\nTotal error:  0.0121731245492\nTotal error:  0.0121660460292\nTotal error:  0.0121598939273\nTotal error:  0.0121609614391\nTotal error:  0.0121583156446\nTotal error:  0.0121592589072\nTotal error:  0.0121573350746\nTotal error:  0.012160259119\nTotal error:  0.0121771006514\nTotal error:  0.0121800175821\nTotal error:  0.0121716863515\nTotal error:  0.0121670688433\nTotal error:  0.0121731547008\nTotal error:  0.0121631022032\nTotal error:  0.0121681571145\nTotal error:  0.0121850291125\nTotal error:  0.0121603187832\nTotal error:  0.0121629708158\nTotal error:  0.0121590918978\nTotal error:  0.012157167434\nTotal error:  0.0121588875191\nTotal error:  0.0121577411895\nTotal error:  0.0121649529031\nTotal error:  0.0121612816139\nTotal error:  0.0121576315816\nTotal error:  0.012157791735\nTotal error:  0.0121683685733\nTotal error:  0.0121682352172\nTotal error:  0.0121601638166\nTotal error:  0.0121622470925\nTotal error:  0.0121574879353\nTotal error:  0.0121571858007\nTotal error:  0.0121615542258\nTotal error:  0.0121612871876\nTotal error:  0.0121552407439\nTotal error:  0.0121552212019\nTotal error:  0.0121593685888\nTotal error:  0.012159686141\nTotal error:  0.0121653115642\nTotal error:  0.0121605669521\n",
          "name": "stdout"
        },
        {
          "output_type": "stream",
          "text": "Total error:  0.0121591180751\nTotal error:  0.0121569364893\nTotal error:  0.0121579057497\nTotal error:  0.012159474246\nTotal error:  0.0121597642111\nTotal error:  0.012158424792\nTotal error:  0.0121584566904\nTotal error:  0.0121585194104\nTotal error:  0.0121563075947\nTotal error:  0.0121576468862\nTotal error:  0.0121624595353\nTotal error:  0.0121616010849\nTotal error:  0.0121597229735\nTotal error:  0.0121612575567\nTotal error:  0.0121608479654\nTotal error:  0.0121594386331\nTotal error:  0.0121558362259\nTotal error:  0.0121613135292\nTotal error:  0.0121565775285\nTotal error:  0.0121551791028\nTotal error:  0.0121561028841\nTotal error:  0.0121533982641\nTotal error:  0.0121598388059\nTotal error:  0.0121591180599\nTotal error:  0.0121572837388\nTotal error:  0.0121712243985\nTotal error:  0.0121616406965\nTotal error:  0.0121641923579\nTotal error:  0.0121601244341\nTotal error:  0.0121623298928\nTotal error:  0.0121575288786\nTotal error:  0.0121584987224\nTotal error:  0.0121608953293\nTotal error:  0.0121586353903\nTotal error:  0.0121548314439\nTotal error:  0.0121580185492\nTotal error:  0.0121637452167\nTotal error:  0.0121632926064\nTotal error:  0.0121602119364\nTotal error:  0.0121588765747\nTotal error:  0.0121560150236\nTotal error:  0.0121598638943\nTotal error:  0.0121564740444\nTotal error:  0.0121567310971\nTotal error:  0.0121612323578\nTotal error:  0.0121560109318\nTotal error:  0.0121540521476\nTotal error:  0.012156630015\nTotal error:  0.0121566157937\nTotal error:  0.012166350052\nTotal error:  0.0121594208261\nTotal error:  0.01215911378\nTotal error:  0.0121547591337\nTotal error:  0.0121590799959\nTotal error:  0.0121589454164\nTotal error:  0.0121565168217\nTotal error:  0.0121621097449\nTotal error:  0.0121650179212\nTotal error:  0.0121599790001\nTotal error:  0.012160601734\nTotal error:  0.0121723646644\nTotal error:  0.0121570623443\nTotal error:  0.0121698166665\nTotal error:  0.0121611692357\nTotal error:  0.0121652551028\nTotal error:  0.0121659242379\nTotal error:  0.0121611818083\nTotal error:  0.0121609046231\nTotal error:  0.0121607166495\nTotal error:  0.0121641958395\nTotal error:  0.0121554119182\nTotal error:  0.0121643001466\nTotal error:  0.0121572679625\nTotal error:  0.0121610842119\nTotal error:  0.0121622073903\n",
          "name": "stdout"
        }
      ]
    },
    {
      "metadata": {
        "trusted": true
      },
      "cell_type": "code",
      "source": "#print(\"Error (test datset) : \", percentError(trainer.testOnClassData(dataset=testData), testData = ['class']))",
      "execution_count": 33,
      "outputs": [
        {
          "output_type": "error",
          "ename": "TypeError",
          "evalue": "percentError() got an unexpected keyword argument 'testData'",
          "traceback": [
            "\u001b[0;31m---------------------------------------------------------------------------\u001b[0m",
            "\u001b[0;31mTypeError\u001b[0m                                 Traceback (most recent call last)",
            "\u001b[0;32m<ipython-input-33-c706d8f630e1>\u001b[0m in \u001b[0;36m<module>\u001b[0;34m\u001b[0m\n\u001b[0;32m----> 1\u001b[0;31m \u001b[0mprint\u001b[0m\u001b[0;34m(\u001b[0m\u001b[0;34m\"Error (test datset) : \"\u001b[0m\u001b[0;34m,\u001b[0m \u001b[0mpercentError\u001b[0m\u001b[0;34m(\u001b[0m\u001b[0mtrainer\u001b[0m\u001b[0;34m.\u001b[0m\u001b[0mtestOnClassData\u001b[0m\u001b[0;34m(\u001b[0m\u001b[0mdataset\u001b[0m\u001b[0;34m=\u001b[0m\u001b[0mtestData\u001b[0m\u001b[0;34m)\u001b[0m\u001b[0;34m,\u001b[0m \u001b[0mtestData\u001b[0m \u001b[0;34m=\u001b[0m \u001b[0;34m[\u001b[0m\u001b[0;34m'class'\u001b[0m\u001b[0;34m]\u001b[0m\u001b[0;34m)\u001b[0m\u001b[0;34m)\u001b[0m\u001b[0;34m\u001b[0m\u001b[0m\n\u001b[0m",
            "\u001b[0;31mTypeError\u001b[0m: percentError() got an unexpected keyword argument 'testData'"
          ]
        }
      ]
    },
    {
      "metadata": {
        "trusted": true
      },
      "cell_type": "code",
      "source": "",
      "execution_count": null,
      "outputs": []
    }
  ],
  "metadata": {
    "kernelspec": {
      "name": "python36",
      "display_name": "Python 3.6",
      "language": "python"
    },
    "language_info": {
      "mimetype": "text/x-python",
      "nbconvert_exporter": "python",
      "name": "python",
      "pygments_lexer": "ipython3",
      "version": "3.6.6",
      "file_extension": ".py",
      "codemirror_mode": {
        "version": 3,
        "name": "ipython"
      }
    }
  },
  "nbformat": 4,
  "nbformat_minor": 2
}