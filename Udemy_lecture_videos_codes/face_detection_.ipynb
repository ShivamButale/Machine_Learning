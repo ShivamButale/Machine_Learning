{
  "cells": [
    {
      "metadata": {
        "trusted": true
      },
      "cell_type": "code",
      "source": "!pip install opencv-python --user\nimport cv2",
      "execution_count": 5,
      "outputs": [
        {
          "output_type": "stream",
          "text": "Collecting opencv-python\n\u001b[?25l  Downloading https://files.pythonhosted.org/packages/37/49/874d119948a5a084a7ebe98308214098ef3471d76ab74200f9800efeef15/opencv_python-4.0.0.21-cp36-cp36m-manylinux1_x86_64.whl (25.4MB)\n\u001b[K    100% |████████████████████████████████| 25.4MB 141kB/s eta 0:00:01    75% |████████████████████████        | 19.1MB 11.0MB/s eta 0:00:01\n\u001b[?25hRequirement already satisfied: numpy>=1.11.3 in /home/nbuser/anaconda3_501/lib/python3.6/site-packages (from opencv-python) (1.14.6)\nInstalling collected packages: opencv-python\nSuccessfully installed opencv-python-4.0.0.21\n\u001b[33mYou are using pip version 19.0.2, however version 19.0.3 is available.\nYou should consider upgrading via the 'pip install --upgrade pip' command.\u001b[0m\n",
          "name": "stdout"
        }
      ]
    },
    {
      "metadata": {
        "trusted": true
      },
      "cell_type": "code",
      "source": "\n\n\n\nFACE_CLASSIFIER = cv2.CascadeClassifier(cv2.data.haarcascades + 'haarcascade_frontalface_default.xml')\n#EYES_CLASSIFER = cv2.CascadeClassifer(cv2.data.haarcascades + 'haarcascade_eye.xml')",
      "execution_count": 7,
      "outputs": []
    },
    {
      "metadata": {
        "trusted": true
      },
      "cell_type": "code",
      "source": "print(\"HI\")\n\n",
      "execution_count": 8,
      "outputs": [
        {
          "output_type": "stream",
          "text": "HI\n",
          "name": "stdout"
        }
      ]
    },
    {
      "metadata": {
        "trusted": true
      },
      "cell_type": "code",
      "source": "imagePath1 = 'sample1.jpg'\nimagePath2 = 'sample2.jpg'\nimagePath3 = 'sample3.jfif'\nimagePath4 = 'sample4.jfif'",
      "execution_count": 21,
      "outputs": []
    },
    {
      "metadata": {
        "trusted": true
      },
      "cell_type": "code",
      "source": "#cascadeClassifierPath = '.xml'",
      "execution_count": null,
      "outputs": []
    },
    {
      "metadata": {
        "trusted": true
      },
      "cell_type": "code",
      "source": "#cascadeClassifier = cv2.CascadeClassifier(cascadeClassifierPath)",
      "execution_count": null,
      "outputs": []
    },
    {
      "metadata": {
        "trusted": true
      },
      "cell_type": "code",
      "source": "image1 = cv2.imread(imagePath1)\nimage2 = cv2.imread(imagePath2)\nimage3 = cv2.imread(imagePath3)\nimage4 = cv2.imread(imagePath4)\n\n",
      "execution_count": 22,
      "outputs": []
    },
    {
      "metadata": {
        "trusted": true
      },
      "cell_type": "code",
      "source": "grayImage1=cv2.cvtColor(image1, cv2.COLOR_BGR2GRAY)\ngrayImage2=cv2.cvtColor(image2, cv2.COLOR_BGR2GRAY)\ngrayImage3=cv2.cvtColor(image3, cv2.COLOR_BGR2GRAY)\ngrayImage4=cv2.cvtColor(image4, cv2.COLOR_BGR2GRAY)",
      "execution_count": 23,
      "outputs": []
    },
    {
      "metadata": {
        "trusted": true
      },
      "cell_type": "code",
      "source": "detectedFaces1 = FACE_CLASSIFIER.detectMultiScale(grayImage1, scaleFactor=1.1, minNeighbors=5, minSize=(30,30))\ndetectedFaces2 = FACE_CLASSIFIER.detectMultiScale(grayImage2, scaleFactor=1.1, minNeighbors=300, minSize=(500,500))\ndetectedFaces3 = FACE_CLASSIFIER.detectMultiScale(grayImage3, scaleFactor=1.1, minNeighbors=1, minSize=(30,30))\ndetectedFaces4 = FACE_CLASSIFIER.detectMultiScale(grayImage4, scaleFactor=1.1, minNeighbors=5, minSize=(30,30))\n\n\nfor(x,y,width, height) in detectedFaces1:\n    cv2.rectangle(image1, (x,y), (x+width, y+height), (0,0,255), 10)\n\nfor(x,y,width, height) in detectedFaces2:\n    cv2.rectangle(image2, (x,y), (x+width, y+height), (0,0,255), 10)\n    \n\nfor(x,y,width, height) in detectedFaces3:\n    cv2.rectangle(image3, (x,y), (x+width, y+height), (0,0,255), 10)\n\nfor(x,y,width, height) in detectedFaces4:\n    cv2.rectangle(image4, (x,y), (x+width, y+height), (0,0,255), 10)\n\n\n\n    \ncv2.imwrite('result1.jpg', image1)\n  \ncv2.imwrite('result2.jpg', image2)\n  \ncv2.imwrite('result3.jpg', image3)\n  \ncv2.imwrite('result4.jpg', image4)",
      "execution_count": 43,
      "outputs": [
        {
          "output_type": "execute_result",
          "execution_count": 43,
          "data": {
            "text/plain": "True"
          },
          "metadata": {}
        }
      ]
    },
    {
      "metadata": {
        "trusted": true
      },
      "cell_type": "code",
      "source": "",
      "execution_count": 17,
      "outputs": []
    },
    {
      "metadata": {
        "trusted": true
      },
      "cell_type": "code",
      "source": "",
      "execution_count": 18,
      "outputs": [
        {
          "output_type": "execute_result",
          "execution_count": 18,
          "data": {
            "text/plain": "True"
          },
          "metadata": {}
        }
      ]
    },
    {
      "metadata": {
        "trusted": true
      },
      "cell_type": "code",
      "source": "",
      "execution_count": null,
      "outputs": []
    }
  ],
  "metadata": {
    "kernelspec": {
      "name": "python36",
      "display_name": "Python 3.6",
      "language": "python"
    },
    "language_info": {
      "mimetype": "text/x-python",
      "nbconvert_exporter": "python",
      "name": "python",
      "pygments_lexer": "ipython3",
      "version": "3.6.6",
      "file_extension": ".py",
      "codemirror_mode": {
        "version": 3,
        "name": "ipython"
      }
    }
  },
  "nbformat": 4,
  "nbformat_minor": 2
}