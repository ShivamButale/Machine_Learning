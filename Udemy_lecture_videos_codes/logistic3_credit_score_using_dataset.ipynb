{
  "cells": [
    {
      "metadata": {
        "trusted": true
      },
      "cell_type": "code",
      "source": "print(\"HI\")",
      "execution_count": 1,
      "outputs": [
        {
          "output_type": "stream",
          "text": "HI\n",
          "name": "stdout"
        }
      ]
    },
    {
      "metadata": {
        "trusted": true
      },
      "cell_type": "code",
      "source": "import numpy as np\nimport pandas as pd\nfrom matplotlib import pyplot as plt",
      "execution_count": 2,
      "outputs": []
    },
    {
      "metadata": {
        "trusted": true
      },
      "cell_type": "code",
      "source": "from sklearn.linear_model import LogisticRegression\nfrom sklearn.cross_validation import train_test_split\nfrom sklearn.metrics import confusion_matrix\nfrom sklearn.metrics import accuracy_score",
      "execution_count": 3,
      "outputs": [
        {
          "output_type": "stream",
          "text": "/home/nbuser/anaconda3_501/lib/python3.6/site-packages/sklearn/cross_validation.py:41: DeprecationWarning: This module was deprecated in version 0.18 in favor of the model_selection module into which all the refactored classes and functions are moved. Also note that the interface of the new CV iterators are different from that of this module. This module will be removed in 0.20.\n  \"This module will be removed in 0.20.\", DeprecationWarning)\n",
          "name": "stderr"
        }
      ]
    },
    {
      "metadata": {
        "trusted": true
      },
      "cell_type": "code",
      "source": "#creditData = pd.read_csv(\"Filename.csv\")\n",
      "execution_count": 4,
      "outputs": []
    },
    {
      "metadata": {
        "trusted": true
      },
      "cell_type": "code",
      "source": "'''\nprint(creditData.head())\nprint(creditData.desscribe())\nprint(creditData.corr()) #Correlation matrix\n'''",
      "execution_count": 5,
      "outputs": [
        {
          "output_type": "execute_result",
          "execution_count": 5,
          "data": {
            "text/plain": "'\\nprint(creditData.head())\\nprint(creditData.desscribe())\\nprint(creditData.corr()) #Correlation matrix\\n'"
          },
          "metadata": {}
        }
      ]
    },
    {
      "metadata": {
        "trusted": true
      },
      "cell_type": "code",
      "source": "'''\nfeatures = creditData[[\"income\",\"age\", \"loan\"]]\ntargetVariables = creditData.default\n\nfeatureTrain, featureTest, targetTrain, targetTest= train_test_split(features, targetVariables, test_size=0.2)\n\nmodel = LogisticRegression()\nfittedModel = model.fit(featureTrain, taregtTrain)\n\nprediction = fittedModel.predict(featureTest)\n\nprint(confusion_matrix(targetTest, prediction))\nprint(accuracy_score(targetTest, prediction))\n\n'''",
      "execution_count": 6,
      "outputs": [
        {
          "output_type": "execute_result",
          "execution_count": 6,
          "data": {
            "text/plain": "'\\nfeatures = creditData[[\"income\",\"age\", \"loan\"]]\\ntargetVariables = creditData.default\\n\\nfeatureTrain, featureTest, targetTrain, targetTest= train_test_split(features, targetVariables, test_size=0.2)\\n\\nmodel = LogisticRegression()\\nfittedModel = model.fit(featureTrain, taregtTrain)\\n\\nprediction = fittedModel.predict(featureTest)\\n\\nprint(confusion_matrix(targetTest, prediction))\\nprint(accuracy_score(targetTest, prediction))\\n\\n'"
          },
          "metadata": {}
        }
      ]
    },
    {
      "metadata": {
        "trusted": true
      },
      "cell_type": "code",
      "source": "",
      "execution_count": null,
      "outputs": []
    }
  ],
  "metadata": {
    "kernelspec": {
      "name": "python36",
      "display_name": "Python 3.6",
      "language": "python"
    },
    "language_info": {
      "mimetype": "text/x-python",
      "nbconvert_exporter": "python",
      "name": "python",
      "pygments_lexer": "ipython3",
      "version": "3.6.6",
      "file_extension": ".py",
      "codemirror_mode": {
        "version": 3,
        "name": "ipython"
      }
    }
  },
  "nbformat": 4,
  "nbformat_minor": 2
}