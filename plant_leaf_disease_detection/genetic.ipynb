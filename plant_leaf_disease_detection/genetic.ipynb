{
  "cells": [
    {
      "metadata": {
        "trusted": true
      },
      "cell_type": "code",
      "source": "import nbimporter\nimport random\nimport numpy as np\nfrom generation import Generation\n#from chromosome import Chromosome\nfrom cluster import Clustering\n\nrandom.seed(1)\n\n\nclass Genetic:\n    def __init__(self, numberOfIndividual, Ps, Pm, Pc, budget, data, generationCount, kmax):\n        self.numberOfIndividual = numberOfIndividual\n        self.Ps = Ps\n        self.Pm = Pm\n        self.Pc = Pc\n        self.budget = budget\n        self.data = data\n        self.generationCount = generationCount\n        self.kmax = kmax\n\n    def geneticProcess(self, generation):\n        budget = self.budget\n        Ps = self.Ps\n        Pm = self.Pm\n        Pc = self.Pc\n        numOfInd = self.numberOfIndividual\n\n        # ------------------------simple ranking selection------------------------\n\n        generation = self.selection(generation)\n\n        #  ------------------------------Crossover---------------------------------\n\n        generation = self.crossover(generation)\n\n        #  ------------------------------Mutation---------------------------------\n\n        generation = self.mutation(generation)\n\n        self.generationCount += 1\n        return generation, self.generationCount\n\n    def selection(self, generation):\n        numOfInd = self.numberOfIndividual\n        Ps = self.Ps\n\n        # replace the worst Ps*numOfInd individual with the best Ps*numOfInd individual\n        for i in range(0, int(Ps * numOfInd)):\n            generation.chromosomes[numOfInd -\n                                   1 - i] = generation.chromosomes[i]\n\n        # sort chromosomes after ranking selection\n        generation.sortChromosomes()\n        return generation\n\n    def crossover(self, generation):\n        numOfInd = self.numberOfIndividual\n        Pc = self.Pc\n\n        index = random.sample(\n            range(0, numOfInd - 1), int(Pc * numOfInd))\n\n        for i in range(int(len(index) / 2),+2):  # do how many time\n            generation = self.doCrossover(\n                generation, i, index)\n\n        generation.sortChromosomes()\n\n        return generation\n\n    def doCrossover(self, generation, i, index):\n\n        chromo = generation.chromosomes\n        length = chromo[0].length\n        cut = random.randint(1, length - 1)\n        parent1 = chromo[index[i]]\n        parent2 = chromo[index[i + 1]]\n        genesChild1 = parent1.genes[0:cut] + parent2.genes[cut:length]\n        genesChild2 = parent1.genes[cut:length] + parent2.genes[0:cut]\n        child1 = Chromosome(genesChild1, len(genesChild1))\n        child2 = Chromosome(genesChild2, len(genesChild2))\n\n        # ----clustering----\n        clustering = Clustering(generation, self.data, self.kmax)\n        child1 = clustering.calcChildFit(child1)\n        child2 = clustering.calcChildFit(child2)\n        # -------------------\n\n        listA = []\n        listA.append(parent1)\n        listA.append(parent2)\n        listA.append(child1)\n        listA.append(child2)\n        # sort parent and child by fitness / dec\n        listA = sorted(listA, reverse=True,\n                       key=lambda elem: elem.fitness)\n\n        generation.chromosomes[index[i]] = listA[0]\n        generation.chromosomes[index[i + 1]] = listA[1]\n\n        return generation\n\n    def mutation(self, generation):\n        numOfInd = self.numberOfIndividual\n        fitnessList = []\n        generationAfterM = Generation(numOfInd, generation.generationCount)\n        flagMutation = (np.zeros(numOfInd)).tolist()\n\n        for i in range(numOfInd):\n            temp = generation.chromosomes[i]\n            fitnessList.append(temp.fitness)\n\n        for i in range(numOfInd):\n            if i == 0:  # Ibest doesn't need mutation\n                generationAfterM.chromosomes.append(generation.chromosomes[0])\n                flagMutation[0] = 0\n            else:\n                generationAfterM = self.doMutation(\n                    generation.chromosomes[i],\tgenerationAfterM, flagMutation, fitnessList, i)\n\n        generationAfterM.sortChromosomes()\n        return generationAfterM\n\n    def doMutation(self, chromosomeBeforeM, generationAfterM, flagMutation, fitnessList, i):\n        Pm = self.Pm\n        dice = []\n        length = len(chromosomeBeforeM.genes)\n        chromosome = Chromosome([], length)\n        geneFlag = []\n\n        for j in range(length):\n            dice.append(float('%.2f' % random.uniform(0.0, 1.0)))\n            if dice[j] > Pm:\n                chromosome.genes.append(chromosomeBeforeM.genes[j])\n                geneFlag.append(0)\n\n            if dice[j] <= Pm:\n                chromosome.genes.append(\n                    float('%.2f' % random.uniform(0.0, 1.0)))\n                geneFlag.append(1)\n\n        check = sum(geneFlag)\n\n        if check == 0:\n            flagMutation[i] = 0\n            chromosome.fitness = fitnessList[i]\n        else:\n            flagMutation[i] = 1\n\n            #---clustering----\n            clustering = Clustering(chromosomeBeforeM, self.data, self.kmax)\n            chromosome = clustering.calcChildFit(\n                chromosome)\n            #------------------\n\n        generationAfterM.chromosomes.append(chromosome)\n        return generationAfterM",
      "execution_count": 1,
      "outputs": [
        {
          "output_type": "stream",
          "text": "Importing Jupyter notebook from generation.ipynb\nImporting Jupyter notebook from chromosome.ipynb\nImporting Jupyter notebook from cluster.ipynb\n",
          "name": "stdout"
        }
      ]
    },
    {
      "metadata": {
        "trusted": false
      },
      "cell_type": "code",
      "source": "",
      "execution_count": null,
      "outputs": []
    }
  ],
  "metadata": {
    "kernelspec": {
      "name": "python2",
      "display_name": "Python 2",
      "language": "python"
    },
    "language_info": {
      "mimetype": "text/x-python",
      "nbconvert_exporter": "python",
      "name": "python",
      "pygments_lexer": "ipython2",
      "version": "2.7.15",
      "file_extension": ".py",
      "codemirror_mode": {
        "version": 2,
        "name": "ipython"
      }
    }
  },
  "nbformat": 4,
  "nbformat_minor": 2
}