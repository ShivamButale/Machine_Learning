{
  "cells": [
    {
      "metadata": {
        "trusted": true
      },
      "cell_type": "code",
      "source": "# import the necessary packages\n#!pip install nbimporter\nimport nbimporter\n#!pip install opencv-python\nfrom Tkinter import *\nfrom PIL import Image\nfrom PIL import ImageTk\nimport tkFileDialog\nimport cv2\nimport numpy as np\nimport matplotlib.pyplot as plt\n\nfrom cluster import Clustering\nfrom genetic import Genetic\nfrom generation import Generation\n\n\n# k-means parameter\nkmax = 25 #maximum number of clusters\n\n# GA parameter\nbudget = 20  #budget of how many times run GA\nnumOfInd = 5 #numer of Individual\nPs = 0.2 #probability of ranking Selection\nPc = 0.8 #probability of crossover\nPm = 0.02 #probability of mutation\n\ngenerationCount = 0\n\n\nif __name__ == '__main__':\n    image1 = cv2.imread('soya1.jpg')\n    image = cv2.cvtColor(image1, cv2.COLOR_BGR2GRAY)\n    #Preprocessing step\n    image=cv2.GaussianBlur(image,(3,3),0)\n    image = np.asarray(image)\n    vectorized=image.reshape(-1,2)\n    #data=np.float32(vectorized)\n    cv2.waitKey(10)\n    cv2.imshow(\"image\",image)\n    data = vectorized\n    cv2.waitKey(10)\n    print(vectorized)\n    # size of column\n    dim = data.shape[1]\n    cv2.waitKey(30)\n    \n    \n    # size of column\n    dim = data.shape[1]\n    generationCount = 0\n    cv2.waitKey(20)\n    # dim or pattern id\n    chromosome_length = kmax * dim\n    print(chromosome_length)\n    cv2.waitKey(20)\n    initial = Generation(numOfInd, 0)\n    initial.randomGenerateChromosomes(chromosome_length)  # initial generate chromosome\n    print(initial)\n    clustering = Clustering(initial, data, kmax)  # eval fit of chromosomes\n\n        # ------------------calc fitness------------------#\n    generation = clustering.calcChromosomesFit()\n# ------------------------GA----------------------#\n    while generationCount <= budget:\n        GA = Genetic(numOfInd, Ps, Pm, Pc, budget, data, generationCount, kmax)\n        genearation.generationCount = GA.geneticProcess(generation)\n        iBest = generation.chromosomes[0]\n        print(generationCount)\n        cv2.waitKey(10)\n    # ------------------output result-------------------#\n    clustering.output_result(iBest, data) \n    \n    \n",
      "execution_count": null,
      "outputs": [
        {
          "output_type": "stream",
          "text": "Importing Jupyter notebook from cluster.ipynb\nImporting Jupyter notebook from genetic.ipynb\n",
          "name": "stdout"
        }
      ]
    },
    {
      "metadata": {
        "trusted": true
      },
      "cell_type": "code",
      "source": "",
      "execution_count": null,
      "outputs": []
    },
    {
      "metadata": {
        "trusted": true
      },
      "cell_type": "code",
      "source": "",
      "execution_count": null,
      "outputs": []
    },
    {
      "metadata": {
        "trusted": true
      },
      "cell_type": "code",
      "source": "",
      "execution_count": null,
      "outputs": []
    }
  ],
  "metadata": {
    "kernelspec": {
      "name": "python2",
      "display_name": "Python 2",
      "language": "python"
    },
    "language_info": {
      "mimetype": "text/x-python",
      "nbconvert_exporter": "python",
      "name": "python",
      "pygments_lexer": "ipython2",
      "version": "2.7.15",
      "file_extension": ".py",
      "codemirror_mode": {
        "version": 2,
        "name": "ipython"
      }
    }
  },
  "nbformat": 4,
  "nbformat_minor": 2
}