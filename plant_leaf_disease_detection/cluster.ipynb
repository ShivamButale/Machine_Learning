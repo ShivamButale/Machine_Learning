{
  "cells": [
    {
      "metadata": {
        "trusted": true
      },
      "cell_type": "code",
      "source": "import pandas as pd\nimport math\nimport json\nimport numpy as np\n\npd.options.mode.chained_assignment = None\n\nclass Point:\n    def __init__(self, pattern_id):\n        self.length = len(pattern_id)\n        self.pattern_id = pattern_id\n        self.z = -1\n\n    def __str__(self):\n        return str(self.pattern_id)\n\n    def toJSON(self):\n        return {\n            'pattern_id':self.pattern_id\n        }\n\n\nclass Cluster:\n    def __init__(self, dim, centroid):\n        self.dim = dim\n        self.centroid = centroid\n        self.points = []\n        self.distances = []\n\n    # this method finds the average distance of all elements in cluster to its centroid\n    def computeS(self):\n        n = len(self.points)\n        if n == 0:\n            return 0\n        s = 0\n        for x in self.distances:\n            s += x\n        return float(s / n)\n\n\nclass Clustering:\n    def __init__(self, generation, data, kmax):\n        self.generation = generation\n        self.data = data\n        self.dim = data.shape[1]\n        self.penalty = 1000000\n        self.kmax = kmax\n\n    def daviesBouldin(self, clusters):\n        sigmaR = 0.0\n        nc = len(clusters)\n        for i in range(nc):\n            sigmaR = sigmaR + self.computeR(clusters)\n            #print(sigmaR)\n        DBIndex = float(sigmaR) / float(nc)\n        return DBIndex\n\n    def computeR(self, clusters):\n        listR = []\n        for i, iCluster in enumerate(clusters):\n            for j, jCluster in enumerate(clusters):\n                if(i != j):\n                    temp = self.computeRij(iCluster, jCluster)\n                    listR.append(temp)\n        return max(listR)\n\n    def computeRij(self, iCluster, jCluster):\n        Rij = 0\n    \n        d = self.euclidianDistance(iCluster.centroid, jCluster.centroid)\n        #print(\"d\",d)\n        #print(\"icluster\",iCluster.computeS())\n        Rij = (iCluster.computeS() + jCluster.computeS()) / d\n       \n        #print(\"Rij:\", Rij)\n        return Rij\n\n    def euclidianDistance(self, point1, point2):\n        sum = 0\n        for i in range(0, point1.length):\n            square = pow(point1.pattern_id[i] - point2.pattern_id[i], 2)\n            sum += square\n\n        sqr = np.sqrt(sum)\n        return sqr\n\n    def calcDistance(self, clusters):\n        kmax = self.kmax\n        dim = self.dim\n        data = self.data\n        dis = 0\n        disSet = []\n\n        for z in range(data.shape[0]):\n            print(z)\n            point = Point(data[z][0:dim])\n            point.z = z\n\n            for i in range(kmax):\n                dis = self.euclidianDistance(clusters[i].centroid, point)\n                disSet.append(dis)\n                dis = 0\n\n            clusters = self.findMin(disSet, clusters, point)\n            disSet = []  # clear disSet\t# calculate distance\n\n        return clusters\n\n    def findMin(self, disSet, clusters, point):\n        disSet = np.asarray(disSet)\n        #n = disSet.index(min(disSet))  # n is index\n        n = np.argmin(disSet)  # n is index\n        #A = disSet.argmin(axis = 0)\n        #N = np.argwhere(disSet == np.min(disSet))\n        #minDis = disSet[A]\n        #c = len(disSet)\n        minDis = disSet[n]\n        print(disSet)\n        print(minDis)\n        clusters[n].points.append(point)\n        #print(clusters[n])\n        clusters[n].distances.append(minDis)\n\n        return clusters\n\n    # childChromosome, kmax\n    def calcChildFit(self, childChromosome):\n        kmax = self.kmax\n        dim = self.dim\n        clusters = []\n        for j in range(kmax):\n            point = Point(childChromosome.genes[j * dim: (j + 1) * dim])\n            clusters.append(Cluster(dim, point))\n\n        clusters = self.calcDistance(clusters)\n        DBIndex = self.daviesBouldin(clusters)\n\n        childChromosome.fitness = 1 / DBIndex\n\n        return childChromosome\n\n    def calcChromosomesFit(self):\n        kmax = self.kmax\n        generation = self.generation\n        numOfInd = generation.numberOfIndividual\n        data = self.data\n        chromo = generation.chromosomes\n\n        for i in range(0, numOfInd):\n\n            dim = self.dim\n            clusters = []\n            for j in range(kmax):\n                point = Point(chromo[i].genes[j * dim: (j + 1) * dim])\n                clusters.append(Cluster(dim, point))\n\n\n            clusters = self.calcDistance(clusters)\n            DBIndex = self.daviesBouldin(clusters)\n            generation.chromosomes[i].fitness = 1 / DBIndex\n        \n        return generation\n\n    def printIBest(self, iBest):\n        kmax = self.kmax\n        dim = self.dim\n        clusters = []\n        for j in range(kmax):\n            point = Point(iBest.genes[j * dim: (j + 1) * dim])\n            clusters.append(Cluster(dim, point))\n\n        clusters = self.calcDistance(clusters)\n        DBIndex = self.daviesBouldin(clusters)\n        z = (np.zeros(150)).tolist()\n        for i, cluster in enumerate(clusters):\n            for j in cluster.points:\n                z[j.z] = i\n\n        correct_answer = 0\n        for i in range(0, 50):\n            if z[i] == 2:\n                correct_answer += 1\n        for i in range(50, 100):\n            if z[i] == 1:\n                correct_answer += 1\n        for i in range(100, 150):\n            if z[i] == 0:\n                correct_answer += 1\n\n        accuracy = (correct_answer / 150) * 100\n\n        print(\"accuracy :\", accuracy)\n        print(\"iBest Fitness:\", 1 / DBIndex)\n        print(\"all index:\", z)\n        print(\"Clusters centroid:\")\n        for i, cluster in enumerate(clusters):\n            print(\"centroid\", i, \" :\", cluster.centroid)\n\n    def output_result(self, iBest, data):\n        print(\"Saving the result...\")\n        kmax = self.kmax\n        dim = self.dim\n        clusters = []\n        for j in range(kmax):\n            point = Point(iBest.genes[j * dim: (j + 1) * dim])\n            clusters.append(Cluster(dim, point))\n\n        clusters = self.calcDistance(clusters)\n        centroids = []\n        for i in range(kmax):\n            centroids.append(clusters[i].centroid)\n        z = (np.zeros(150)).tolist()\n        for i, cluster in enumerate(clusters):\n            for j in cluster.points:\n                z[j.z] = i\n\n        with open('result/cluster_center.json', 'w') as outfile:\n            json.dump([e.toJSON() for e in centroids], outfile, sort_keys=True, indent=4, separators=(',', ': '))\n\n        # rename df header\n        col_name = list()\n        for i in range(data.shape[1]):\n            col_name.append(\"f{0}\".format(i))\n        data.columns = col_name\n\n        # insert cluster result\n        data['Cluster Index'] = pd.Series(z, index=data.index)\n        data.to_csv('result/result.csv', index=None)\n        print(\"Done.\")",
      "execution_count": 1,
      "outputs": []
    },
    {
      "metadata": {
        "trusted": false
      },
      "cell_type": "code",
      "source": "",
      "execution_count": null,
      "outputs": []
    }
  ],
  "metadata": {
    "kernelspec": {
      "name": "python2",
      "display_name": "Python 2",
      "language": "python"
    },
    "language_info": {
      "mimetype": "text/x-python",
      "nbconvert_exporter": "python",
      "name": "python",
      "pygments_lexer": "ipython2",
      "version": "2.7.15",
      "file_extension": ".py",
      "codemirror_mode": {
        "version": 2,
        "name": "ipython"
      }
    }
  },
  "nbformat": 4,
  "nbformat_minor": 2
}