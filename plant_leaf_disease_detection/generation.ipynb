{
  "cells": [
    {
      "metadata": {
        "trusted": true
      },
      "cell_type": "code",
      "source": "import nbimporter\nfrom chromosome import Chromosome\n\n\nclass Generation:\n    def __init__(self, numberOfIndividual, generationCount):\n        self.numberOfIndividual = numberOfIndividual\n        self.chromosomes = []\n        self.generationCount = generationCount\n\n    def sortChromosomes(self):\n        self.chromosomes = sorted(self.chromosomes, reverse=True, key=lambda elem: elem.fitness)\n        return self.chromosomes\n\n    def randomGenerateChromosomes(self, lengthOfChromosome):\n        for i in range(0, self.numberOfIndividual):\n            chromosome = Chromosome([], lengthOfChromosome)\n            print(chromosome)\n            chromosome.randomGenerateChromosome()\n            self.chromosomes.append(chromosome)",
      "execution_count": 1,
      "outputs": [
        {
          "output_type": "stream",
          "text": "Importing Jupyter notebook from chromosome.ipynb\n",
          "name": "stdout"
        }
      ]
    },
    {
      "metadata": {
        "trusted": false
      },
      "cell_type": "code",
      "source": "",
      "execution_count": null,
      "outputs": []
    }
  ],
  "metadata": {
    "kernelspec": {
      "name": "python2",
      "display_name": "Python 2",
      "language": "python"
    },
    "language_info": {
      "mimetype": "text/x-python",
      "nbconvert_exporter": "python",
      "name": "python",
      "pygments_lexer": "ipython2",
      "version": "2.7.15",
      "file_extension": ".py",
      "codemirror_mode": {
        "version": 2,
        "name": "ipython"
      }
    }
  },
  "nbformat": 4,
  "nbformat_minor": 2
}