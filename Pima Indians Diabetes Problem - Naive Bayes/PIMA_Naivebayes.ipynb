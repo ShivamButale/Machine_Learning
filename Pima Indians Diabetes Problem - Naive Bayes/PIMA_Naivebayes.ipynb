{
  "cells": [
    {
      "metadata": {
        "trusted": true
      },
      "cell_type": "code",
      "source": "import csv\n",
      "execution_count": 9,
      "outputs": []
    },
    {
      "metadata": {
        "trusted": true
      },
      "cell_type": "code",
      "source": "def loadCsv(filename):\n    lines = csv.reader(open(filename, \"rt\"))\n    dataset = list(lines)\n    for i in range(len(dataset)):\n        try:\n            dataset[i] = [float(x) for x in dataset[i]]\n        except ValueError:\n            print(i) \n            # report the error in some way that is helpful -- maybe print out i\n    return dataset",
      "execution_count": 37,
      "outputs": []
    },
    {
      "metadata": {
        "trusted": true
      },
      "cell_type": "code",
      "source": "print(\"PIMAS\")\n\n",
      "execution_count": 26,
      "outputs": [
        {
          "output_type": "stream",
          "text": "PIMAS\n",
          "name": "stdout"
        }
      ]
    },
    {
      "metadata": {
        "trusted": true
      },
      "cell_type": "code",
      "source": "filename = 'pima-indians-diabetes.csv'\ndataset = loadCsv(filename)\n#print('Loaded data file {0} with {1} rows').format(filename, len(dataset))",
      "execution_count": 28,
      "outputs": [
        {
          "output_type": "stream",
          "text": "0\n1\n2\n3\n4\n5\n6\n7\n8\n",
          "name": "stdout"
        }
      ]
    },
    {
      "metadata": {
        "trusted": true
      },
      "cell_type": "code",
      "source": "import random\ndef splitDataset(dataset, splitRatio):\n    trainSize = int(len(dataset)*splitRatio)\n    trainSet = []\n    copy = list(dataset)\n    while len(trainSet) < trainSize:\n        index = random.randrange(len(copy))\n        trainSet.append(copy.pop(index))\n    return [trainSet, copy]",
      "execution_count": 29,
      "outputs": []
    },
    {
      "metadata": {
        "trusted": true
      },
      "cell_type": "code",
      "source": "dataset = [[1], [2], [3], [4], [5]]\nsplitRatio = 0.67\ntrain, test = splitDataset(dataset, splitRatio)\n#print('Split {0} rows into train with {1} and test with {2}').format(len(dataset), train, test)",
      "execution_count": 31,
      "outputs": []
    },
    {
      "metadata": {
        "trusted": true
      },
      "cell_type": "code",
      "source": "def separateByClass(dataset):\n    separated = {}\n    for i in range(len(dataset)):\n        vector = dataset[i]\n        if(vector[-1] not in separated):\n            separated[vector[-1]] = []\n        separated[vector[-1]].append(vector)\n    return separated\n        ",
      "execution_count": 3,
      "outputs": []
    },
    {
      "metadata": {
        "trusted": true
      },
      "cell_type": "code",
      "source": "dataset = [[1,20,1],[2,21,0],[3,22,1]]\nseparated = separateByClass(dataset)\n#print('Separated instances: {0}').format(separated)\nprint(separated)",
      "execution_count": 5,
      "outputs": [
        {
          "output_type": "stream",
          "text": "{1: [[1, 20, 1], [3, 22, 1]], 0: [[2, 21, 0]]}\n",
          "name": "stdout"
        }
      ]
    },
    {
      "metadata": {
        "trusted": true
      },
      "cell_type": "code",
      "source": "import math\ndef mean(numbers):\n    return sum(numbers)/float(len(numbers))\ndef stdev(numbers):\n    avg = mean(numbers)\n    variance = sum([pow(x-avg,2) for x in numbers])/float(len(numbers)-1)\n    return math.sqrt(variance)",
      "execution_count": 6,
      "outputs": []
    },
    {
      "metadata": {
        "trusted": true
      },
      "cell_type": "code",
      "source": "numbers = [1,2,3,4,5]\nprint('Summary')\nprint(mean(numbers))\nprint(stdev(numbers))",
      "execution_count": 21,
      "outputs": [
        {
          "output_type": "stream",
          "text": "Summary\n3.0\n1.5811388300841898\n",
          "name": "stdout"
        }
      ]
    },
    {
      "metadata": {
        "trusted": true
      },
      "cell_type": "code",
      "source": "def summarize(dataset):\n    summaries = [(mean(attribute), stdev(attribute)) for attribute in zip(*dataset)]\n    return summaries",
      "execution_count": 9,
      "outputs": []
    },
    {
      "metadata": {
        "trusted": true
      },
      "cell_type": "code",
      "source": "dataset = [[1,20,0], [2,21,1], [3,22,0]]\nsummary = summarize(dataset)\nprint(summary)",
      "execution_count": 22,
      "outputs": [
        {
          "output_type": "stream",
          "text": "[(2.0, 1.0), (21.0, 1.0), (0.3333333333333333, 0.5773502691896258)]\n",
          "name": "stdout"
        }
      ]
    },
    {
      "metadata": {
        "trusted": true
      },
      "cell_type": "code",
      "source": "def summarizeByClass(dataset):\n    separated = separateByClass(dataset)\n    summaries = {}\n    for classValue, instances in separated.items():\n        summaries[classValue] = summarize(instances)\n    return summaries\n",
      "execution_count": 19,
      "outputs": []
    },
    {
      "metadata": {
        "trusted": true
      },
      "cell_type": "code",
      "source": "dataset = [[1,20,1], [2,21,0],[3,22,1], [4,22,0]]\nsummary = summarizeByClass(dataset)\nprint('Summary by class value:')\nprint(summary)\n\n",
      "execution_count": 20,
      "outputs": [
        {
          "output_type": "stream",
          "text": "Summary by class value:\n{1: [(2.0, 1.4142135623730951), (21.0, 1.4142135623730951), (1.0, 0.0)], 0: [(3.0, 1.4142135623730951), (21.5, 0.7071067811865476), (0.0, 0.0)]}\n",
          "name": "stdout"
        }
      ]
    },
    {
      "metadata": {
        "trusted": true
      },
      "cell_type": "code",
      "source": "print(\"Jo\")",
      "execution_count": 2,
      "outputs": [
        {
          "output_type": "stream",
          "text": "Jo\n",
          "name": "stdout"
        }
      ]
    },
    {
      "metadata": {
        "trusted": true
      },
      "cell_type": "code",
      "source": "import math\ndef calculateProbability(x,mean,stdev):\n    exponent = math.exp(-(math.pow(x-mean,2)/(2*math.pow(stdev,2))))\n    return (1/(math.sqrt(2*math.pi)*stdev))*exponent",
      "execution_count": 3,
      "outputs": []
    },
    {
      "metadata": {
        "trusted": true
      },
      "cell_type": "code",
      "source": "x=71.5\nmean=73\nstdev = 6.2\nprobability = calculateProbability(x,mean,stdev)\nprint(probability)\n",
      "execution_count": 4,
      "outputs": [
        {
          "output_type": "stream",
          "text": "0.06248965759370005\n",
          "name": "stdout"
        }
      ]
    },
    {
      "metadata": {
        "trusted": true
      },
      "cell_type": "code",
      "source": "def calculateClassProbabilities(summaries, inputVector):\n    probabilities = {}\n    for classValue, classSummaries in summaries.items():\n        probabilities[classValue] = 1\n        for i in range(len(classSummaries)):\n            meaan,stdev = classSummaries[i]\n            x = inputVector[i]\n            probabilities[classValue] *= calculateProbability(x,mean,stdev)\n    return probabilities\n\n",
      "execution_count": 13,
      "outputs": []
    },
    {
      "metadata": {
        "trusted": true
      },
      "cell_type": "code",
      "source": "summaries = {0:[(1, 0.5)], 1:[(20, 5.0)]}\ninputVector = [1.1, '?']\nprobabilities = calculateClassProbabilities(summaries, inputVector)\n#print('Probabilities for each class: {0}').format(probabilities)\nprint(probabilities)\n\n\n",
      "execution_count": 14,
      "outputs": [
        {
          "output_type": "stream",
          "text": "{0: 0.0, 1: 9.983392127233412e-47}\n",
          "name": "stdout"
        }
      ]
    },
    {
      "metadata": {
        "trusted": true
      },
      "cell_type": "code",
      "source": "summaries = {0:[(1, 0.5)], 1:[(20, 5.0)]}\ninputVector = [1.1, '?']\nprobabilities = calculateClassProbabilities(summaries, inputVector)\n#print('Probabilities for each class: {0}').format(probabilities)\nprint(probabilities)\n",
      "execution_count": 15,
      "outputs": [
        {
          "output_type": "stream",
          "text": "{0: 0.0, 1: 9.983392127233412e-47}\n",
          "name": "stdout"
        }
      ]
    },
    {
      "metadata": {
        "trusted": true
      },
      "cell_type": "code",
      "source": "def predict(summaries, inputVector):\n\tprobabilities = calculateClassProbabilities(summaries, inputVector)\n\tbestLabel, bestProb = None, -1\n\tfor classValue, probability in probabilities.items():\n\t\tif bestLabel is None or probability > bestProb:\n\t\t\tbestProb = probability\n\t\t\tbestLabel = classValue\n\treturn bestLabel\n\n",
      "execution_count": 18,
      "outputs": []
    },
    {
      "metadata": {
        "trusted": true
      },
      "cell_type": "code",
      "source": "summaries = {'A':[(1, 0.5)], 'B':[(20, 5.0)]}\ninputVector = [1.1, '?']\nresult = predict(summaries, inputVector)\n#print('Prediction: {0}').format(result)\nprint(result)\n\n",
      "execution_count": 19,
      "outputs": [
        {
          "output_type": "stream",
          "text": "B\n",
          "name": "stdout"
        }
      ]
    },
    {
      "metadata": {
        "trusted": true
      },
      "cell_type": "code",
      "source": "def getPredictions(summaries, testSet):\n\tpredictions = []\n\tfor i in range(len(testSet)):\n\t\tresult = predict(summaries, testSet[i])\n\t\tpredictions.append(result)\n\treturn predictions",
      "execution_count": 20,
      "outputs": []
    },
    {
      "metadata": {
        "trusted": true
      },
      "cell_type": "code",
      "source": "def getPredictions(summaries, testSet):\n\tpredictions = []\n\tfor i in range(len(testSet)):\n\t\tresult = predict(summaries, testSet[i])\n\t\tpredictions.append(result)\n\treturn predictions",
      "execution_count": 21,
      "outputs": []
    },
    {
      "metadata": {
        "trusted": true
      },
      "cell_type": "code",
      "source": "summaries = {'A':[(1, 0.5)], 'B':[(20, 5.0)]}\ntestSet = [[1.1, '?'], [19.1, '?']]\npredictions = getPredictions(summaries, testSet)\n#print('Predictions: {0}').format(predictions)\nprint(predictions)\n",
      "execution_count": 22,
      "outputs": [
        {
          "output_type": "stream",
          "text": "['B', 'B']\n",
          "name": "stdout"
        }
      ]
    },
    {
      "metadata": {
        "trusted": true
      },
      "cell_type": "code",
      "source": "def getAccuracy(testSet, predictions):\n\tcorrect = 0\n\tfor x in range(len(testSet)):\n\t\tif testSet[x][-1] == predictions[x]:\n\t\t\tcorrect += 1\n\treturn (correct/float(len(testSet))) * 100.0",
      "execution_count": 23,
      "outputs": []
    },
    {
      "metadata": {
        "trusted": true
      },
      "cell_type": "code",
      "source": "testSet = [[1,1,1,'a'], [2,2,2,'a'], [3,3,3,'b']]\npredictions = ['a', 'a', 'a']\naccuracy = getAccuracy(testSet, predictions)\nprint(accuracy)",
      "execution_count": 24,
      "outputs": [
        {
          "output_type": "stream",
          "text": "66.66666666666666\n",
          "name": "stdout"
        }
      ]
    },
    {
      "metadata": {
        "trusted": true
      },
      "cell_type": "code",
      "source": "# Example of Naive Bayes implemented from Scratch in Python\nimport csv\nimport random\nimport math\n\ndef loadCsv(filename):\n    lines = csv.reader(open(filename, \"rt\"))\n    dataset = list(lines)\n    for i in range(len(dataset)):\n        try:\n            dataset[i] = [float(x) for x in dataset[i]]\n        except ValueError:\n            print(i) \n            # report the error in some way that is helpful -- maybe print out i\n    return dataset\n\ndef splitDataset(dataset, splitRatio):\n\ttrainSize = int(len(dataset) * splitRatio)\n\ttrainSet = []\n\tcopy = list(dataset)\n\twhile len(trainSet) < trainSize:\n\t\tindex = random.randrange(len(copy))\n\t\ttrainSet.append(copy.pop(index))\n\treturn [trainSet, copy]\n\ndef separateByClass(dataset):\n\tseparated = {}\n\tfor i in range(len(dataset)):\n\t\tvector = dataset[i]\n\t\tif (vector[-1] not in separated):\n\t\t\tseparated[vector[-1]] = []\n\t\tseparated[vector[-1]].append(vector)\n\treturn separated\n\ndef mean(numbers):\n\treturn sum(numbers)/float(len(numbers))\n\ndef stdev(numbers):\n\tavg = mean(numbers)\n\tvariance = sum([pow(x-avg,2) for x in numbers])/float(len(numbers)-1)\n\treturn math.sqrt(variance)\n\ndef summarize(dataset):\n\tsummaries = [(mean(attribute), stdev(attribute)) for attribute in zip(*dataset)]\n\tdel summaries[-1]\n\treturn summaries\n\ndef summarizeByClass(dataset):\n\tseparated = separateByClass(dataset)\n\tsummaries = {}\n\tfor classValue, instances in separated.items():\n\t\tsummaries[classValue] = summarize(instances)\n\treturn summaries\n\ndef calculateProbability(x, mean, stdev):\n\texponent = math.exp(-(math.pow(x-mean,2)/(2*math.pow(stdev,2))))\n\treturn (1 / (math.sqrt(2*math.pi) * stdev)) * exponent\n\ndef calculateClassProbabilities(summaries, inputVector):\n\tprobabilities = {}\n\tfor classValue, classSummaries in summaries.items():\n\t\tprobabilities[classValue] = 1\n\t\tfor i in range(len(classSummaries)):\n\t\t\tmean, stdev = classSummaries[i]\n\t\t\tx = inputVector[i]\n\t\t\tprobabilities[classValue] *= calculateProbability(x, mean, stdev)\n\treturn probabilities\n\t\t\t\ndef predict(summaries, inputVector):\n\tprobabilities = calculateClassProbabilities(summaries, inputVector)\n\tbestLabel, bestProb = None, -1\n\tfor classValue, probability in probabilities.items():\n\t\tif bestLabel is None or probability > bestProb:\n\t\t\tbestProb = probability\n\t\t\tbestLabel = classValue\n\treturn bestLabel\n\ndef getPredictions(summaries, testSet):\n\tpredictions = []\n\tfor i in range(len(testSet)):\n\t\tresult = predict(summaries, testSet[i])\n\t\tpredictions.append(result)\n\treturn predictions\n\ndef getAccuracy(testSet, predictions):\n\tcorrect = 0\n\tfor i in range(len(testSet)):\n\t\tif testSet[i][-1] == predictions[i]:\n\t\t\tcorrect += 1\n\treturn (correct/float(len(testSet))) * 100.0\n\ndef main():\n\tfilename = 'pima-indians-diabetes.csv'\n\tsplitRatio = 0.67\n\tdataset = loadCsv(filename)\n\ttrainingSet, testSet = splitDataset(dataset, splitRatio)\n\t#print('Split {0} rows into train={1} and test={2} rows').format(len(dataset), len(trainingSet), len(testSet))\n\t\n    # prepare model\n\tsummaries = summarizeByClass(trainingSet)\n\t# test model\n\tpredictions = getPredictions(summaries, testSet)\n\taccuracy = getAccuracy(testSet, predictions)\n\tprint('Accuracy:', accuracy)\n\nmain()",
      "execution_count": 41,
      "outputs": [
        {
          "output_type": "stream",
          "text": "0\n1\n2\n3\n4\n5\n6\n7\n8\n",
          "name": "stdout"
        },
        {
          "output_type": "error",
          "ename": "TypeError",
          "evalue": "unsupported operand type(s) for +: 'int' and 'str'",
          "traceback": [
            "\u001b[0;31m---------------------------------------------------------------------------\u001b[0m",
            "\u001b[0;31mTypeError\u001b[0m                                 Traceback (most recent call last)",
            "\u001b[0;32m<ipython-input-41-713931393d73>\u001b[0m in \u001b[0;36m<module>\u001b[0;34m\u001b[0m\n\u001b[1;32m    104\u001b[0m         \u001b[0mprint\u001b[0m\u001b[0;34m(\u001b[0m\u001b[0;34m'Accuracy:'\u001b[0m\u001b[0;34m,\u001b[0m \u001b[0maccuracy\u001b[0m\u001b[0;34m)\u001b[0m\u001b[0;34m\u001b[0m\u001b[0m\n\u001b[1;32m    105\u001b[0m \u001b[0;34m\u001b[0m\u001b[0m\n\u001b[0;32m--> 106\u001b[0;31m \u001b[0mmain\u001b[0m\u001b[0;34m(\u001b[0m\u001b[0;34m)\u001b[0m\u001b[0;34m\u001b[0m\u001b[0m\n\u001b[0m",
            "\u001b[0;32m<ipython-input-41-713931393d73>\u001b[0m in \u001b[0;36mmain\u001b[0;34m()\u001b[0m\n\u001b[1;32m     98\u001b[0m \u001b[0;34m\u001b[0m\u001b[0m\n\u001b[1;32m     99\u001b[0m     \u001b[0;31m# prepare model\u001b[0m\u001b[0;34m\u001b[0m\u001b[0;34m\u001b[0m\u001b[0m\n\u001b[0;32m--> 100\u001b[0;31m         \u001b[0msummaries\u001b[0m \u001b[0;34m=\u001b[0m \u001b[0msummarizeByClass\u001b[0m\u001b[0;34m(\u001b[0m\u001b[0mtrainingSet\u001b[0m\u001b[0;34m)\u001b[0m\u001b[0;34m\u001b[0m\u001b[0m\n\u001b[0m\u001b[1;32m    101\u001b[0m         \u001b[0;31m# test model\u001b[0m\u001b[0;34m\u001b[0m\u001b[0;34m\u001b[0m\u001b[0m\n\u001b[1;32m    102\u001b[0m         \u001b[0mpredictions\u001b[0m \u001b[0;34m=\u001b[0m \u001b[0mgetPredictions\u001b[0m\u001b[0;34m(\u001b[0m\u001b[0msummaries\u001b[0m\u001b[0;34m,\u001b[0m \u001b[0mtestSet\u001b[0m\u001b[0;34m)\u001b[0m\u001b[0;34m\u001b[0m\u001b[0m\n",
            "\u001b[0;32m<ipython-input-41-713931393d73>\u001b[0m in \u001b[0;36msummarizeByClass\u001b[0;34m(dataset)\u001b[0m\n\u001b[1;32m     50\u001b[0m         \u001b[0msummaries\u001b[0m \u001b[0;34m=\u001b[0m \u001b[0;34m{\u001b[0m\u001b[0;34m}\u001b[0m\u001b[0;34m\u001b[0m\u001b[0m\n\u001b[1;32m     51\u001b[0m         \u001b[0;32mfor\u001b[0m \u001b[0mclassValue\u001b[0m\u001b[0;34m,\u001b[0m \u001b[0minstances\u001b[0m \u001b[0;32min\u001b[0m \u001b[0mseparated\u001b[0m\u001b[0;34m.\u001b[0m\u001b[0mitems\u001b[0m\u001b[0;34m(\u001b[0m\u001b[0;34m)\u001b[0m\u001b[0;34m:\u001b[0m\u001b[0;34m\u001b[0m\u001b[0m\n\u001b[0;32m---> 52\u001b[0;31m                 \u001b[0msummaries\u001b[0m\u001b[0;34m[\u001b[0m\u001b[0mclassValue\u001b[0m\u001b[0;34m]\u001b[0m \u001b[0;34m=\u001b[0m \u001b[0msummarize\u001b[0m\u001b[0;34m(\u001b[0m\u001b[0minstances\u001b[0m\u001b[0;34m)\u001b[0m\u001b[0;34m\u001b[0m\u001b[0m\n\u001b[0m\u001b[1;32m     53\u001b[0m         \u001b[0;32mreturn\u001b[0m \u001b[0msummaries\u001b[0m\u001b[0;34m\u001b[0m\u001b[0m\n\u001b[1;32m     54\u001b[0m \u001b[0;34m\u001b[0m\u001b[0m\n",
            "\u001b[0;32m<ipython-input-41-713931393d73>\u001b[0m in \u001b[0;36msummarize\u001b[0;34m(dataset)\u001b[0m\n\u001b[1;32m     42\u001b[0m \u001b[0;34m\u001b[0m\u001b[0m\n\u001b[1;32m     43\u001b[0m \u001b[0;32mdef\u001b[0m \u001b[0msummarize\u001b[0m\u001b[0;34m(\u001b[0m\u001b[0mdataset\u001b[0m\u001b[0;34m)\u001b[0m\u001b[0;34m:\u001b[0m\u001b[0;34m\u001b[0m\u001b[0m\n\u001b[0;32m---> 44\u001b[0;31m         \u001b[0msummaries\u001b[0m \u001b[0;34m=\u001b[0m \u001b[0;34m[\u001b[0m\u001b[0;34m(\u001b[0m\u001b[0mmean\u001b[0m\u001b[0;34m(\u001b[0m\u001b[0mattribute\u001b[0m\u001b[0;34m)\u001b[0m\u001b[0;34m,\u001b[0m \u001b[0mstdev\u001b[0m\u001b[0;34m(\u001b[0m\u001b[0mattribute\u001b[0m\u001b[0;34m)\u001b[0m\u001b[0;34m)\u001b[0m \u001b[0;32mfor\u001b[0m \u001b[0mattribute\u001b[0m \u001b[0;32min\u001b[0m \u001b[0mzip\u001b[0m\u001b[0;34m(\u001b[0m\u001b[0;34m*\u001b[0m\u001b[0mdataset\u001b[0m\u001b[0;34m)\u001b[0m\u001b[0;34m]\u001b[0m\u001b[0;34m\u001b[0m\u001b[0m\n\u001b[0m\u001b[1;32m     45\u001b[0m         \u001b[0;32mdel\u001b[0m \u001b[0msummaries\u001b[0m\u001b[0;34m[\u001b[0m\u001b[0;34m-\u001b[0m\u001b[0;36m1\u001b[0m\u001b[0;34m]\u001b[0m\u001b[0;34m\u001b[0m\u001b[0m\n\u001b[1;32m     46\u001b[0m         \u001b[0;32mreturn\u001b[0m \u001b[0msummaries\u001b[0m\u001b[0;34m\u001b[0m\u001b[0m\n",
            "\u001b[0;32m<ipython-input-41-713931393d73>\u001b[0m in \u001b[0;36m<listcomp>\u001b[0;34m(.0)\u001b[0m\n\u001b[1;32m     42\u001b[0m \u001b[0;34m\u001b[0m\u001b[0m\n\u001b[1;32m     43\u001b[0m \u001b[0;32mdef\u001b[0m \u001b[0msummarize\u001b[0m\u001b[0;34m(\u001b[0m\u001b[0mdataset\u001b[0m\u001b[0;34m)\u001b[0m\u001b[0;34m:\u001b[0m\u001b[0;34m\u001b[0m\u001b[0m\n\u001b[0;32m---> 44\u001b[0;31m         \u001b[0msummaries\u001b[0m \u001b[0;34m=\u001b[0m \u001b[0;34m[\u001b[0m\u001b[0;34m(\u001b[0m\u001b[0mmean\u001b[0m\u001b[0;34m(\u001b[0m\u001b[0mattribute\u001b[0m\u001b[0;34m)\u001b[0m\u001b[0;34m,\u001b[0m \u001b[0mstdev\u001b[0m\u001b[0;34m(\u001b[0m\u001b[0mattribute\u001b[0m\u001b[0;34m)\u001b[0m\u001b[0;34m)\u001b[0m \u001b[0;32mfor\u001b[0m \u001b[0mattribute\u001b[0m \u001b[0;32min\u001b[0m \u001b[0mzip\u001b[0m\u001b[0;34m(\u001b[0m\u001b[0;34m*\u001b[0m\u001b[0mdataset\u001b[0m\u001b[0;34m)\u001b[0m\u001b[0;34m]\u001b[0m\u001b[0;34m\u001b[0m\u001b[0m\n\u001b[0m\u001b[1;32m     45\u001b[0m         \u001b[0;32mdel\u001b[0m \u001b[0msummaries\u001b[0m\u001b[0;34m[\u001b[0m\u001b[0;34m-\u001b[0m\u001b[0;36m1\u001b[0m\u001b[0;34m]\u001b[0m\u001b[0;34m\u001b[0m\u001b[0m\n\u001b[1;32m     46\u001b[0m         \u001b[0;32mreturn\u001b[0m \u001b[0msummaries\u001b[0m\u001b[0;34m\u001b[0m\u001b[0m\n",
            "\u001b[0;32m<ipython-input-41-713931393d73>\u001b[0m in \u001b[0;36mmean\u001b[0;34m(numbers)\u001b[0m\n\u001b[1;32m     34\u001b[0m \u001b[0;34m\u001b[0m\u001b[0m\n\u001b[1;32m     35\u001b[0m \u001b[0;32mdef\u001b[0m \u001b[0mmean\u001b[0m\u001b[0;34m(\u001b[0m\u001b[0mnumbers\u001b[0m\u001b[0;34m)\u001b[0m\u001b[0;34m:\u001b[0m\u001b[0;34m\u001b[0m\u001b[0m\n\u001b[0;32m---> 36\u001b[0;31m         \u001b[0;32mreturn\u001b[0m \u001b[0msum\u001b[0m\u001b[0;34m(\u001b[0m\u001b[0mnumbers\u001b[0m\u001b[0;34m)\u001b[0m\u001b[0;34m/\u001b[0m\u001b[0mfloat\u001b[0m\u001b[0;34m(\u001b[0m\u001b[0mlen\u001b[0m\u001b[0;34m(\u001b[0m\u001b[0mnumbers\u001b[0m\u001b[0;34m)\u001b[0m\u001b[0;34m)\u001b[0m\u001b[0;34m\u001b[0m\u001b[0m\n\u001b[0m\u001b[1;32m     37\u001b[0m \u001b[0;34m\u001b[0m\u001b[0m\n\u001b[1;32m     38\u001b[0m \u001b[0;32mdef\u001b[0m \u001b[0mstdev\u001b[0m\u001b[0;34m(\u001b[0m\u001b[0mnumbers\u001b[0m\u001b[0;34m)\u001b[0m\u001b[0;34m:\u001b[0m\u001b[0;34m\u001b[0m\u001b[0m\n",
            "\u001b[0;31mTypeError\u001b[0m: unsupported operand type(s) for +: 'int' and 'str'"
          ]
        }
      ]
    },
    {
      "metadata": {
        "trusted": true
      },
      "cell_type": "code",
      "source": "",
      "execution_count": null,
      "outputs": []
    }
  ],
  "metadata": {
    "kernelspec": {
      "name": "python36",
      "display_name": "Python 3.6",
      "language": "python"
    },
    "language_info": {
      "mimetype": "text/x-python",
      "nbconvert_exporter": "python",
      "name": "python",
      "pygments_lexer": "ipython3",
      "version": "3.6.6",
      "file_extension": ".py",
      "codemirror_mode": {
        "version": 3,
        "name": "ipython"
      }
    }
  },
  "nbformat": 4,
  "nbformat_minor": 2
}