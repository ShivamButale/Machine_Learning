{
  "cells": [
    {
      "metadata": {
        "trusted": true
      },
      "cell_type": "code",
      "source": "\nimport matplotlib.pyplot as plt\nimport tkinter as tk     \nimport tkinter.font as tkfont  \nimport sqlite3\nimport tkinter.messagebox\nimport matplotlib\nmatplotlib.use('Agg')\n\n#connect to the databse\nconn = sqlite3.connect('spmkt.db')\nprint(\"Connected Successfully\")\t\n\n#cursor to move around the database\nc= conn.cursor()\n\nclass SampleApp(tk.Tk):\n\n    def __init__(self, *args, **kwargs):\n        tk.Tk.__init__(self, *args, **kwargs)\n\n        self.title_font = tkfont.Font(family='Helvetica', size=18, weight=\"bold\", slant=\"italic\")\n\n        # the container is where we'll stack a bunch of frames\n        # on top of each other, then the one we want visible\n        # will be raised above the others\n        container = tk.Frame(self)\n        container.pack(side=\"top\", fill=\"both\", expand=True)\n        container.grid_rowconfigure(0, weight=1)\n        container.grid_columnconfigure(0, weight=1)\n\n        self.frames = {}\n        for F in (StartPage, PageOne, PageTwo):\n            page_name = F.__name__\n            frame = F(parent=container, controller=self)\n            self.frames[page_name] = frame\n\n            # put all of the pages in the same location;\n            # the one on the top of the stacking order\n            # will be the one that is visible.\n            frame.grid(row=0, column=0, sticky=\"nsew\")\n\n        self.show_frame(\"StartPage\")\n\n    def show_frame(self, page_name):\n        '''Show a frame for the given page name'''\n        frame = self.frames[page_name]\n        frame.tkraise()\n\n\nclass StartPage(tk.Frame):\n\n    def __init__(self, parent, controller):\n        tk.Frame.__init__(self, parent,bg = \"lightsteelblue4\")\n        self.controller = controller\n        label = tk.Label(self, text=\"Supermarket Management System\", font=controller.title_font)\n        label.pack(side=\"top\", fill=\"x\", pady=10)\n\n        button1 = tk.Button(self, text=\"New Customer\",\n                            command=lambda: controller.show_frame(\"PageOne\"))\n        button1.place(x =250, y = 400)\n        button2 = tk.Button(self, text=\"New Employee\",\n                            command=lambda: controller.show_frame(\"PageTwo\"))\n        button2.place(x =400, y = 400)\n        #button3 = tk.Button(self, text=\"New Product\",\n         #                   command=lambda: controller.show_frame(\"PageThree\"))           \n        #button1.pack()\n        #button2.pack()\n        #button3.pack()\n\n#Frame for Customer Registration\nclass PageOne(tk.Frame):\n    def __init__(self, parent, controller):\n        tk.Frame.__init__(self, parent, bg = \"lightsteelblue4\")\n        self.controller = controller\n\n        label = tk.Label(self, text=\"Customer Registration\", font=controller.title_font)\n        label.pack(side=\"top\", fill=\"x\", pady=10)\n    \n        button = tk.Button(self, text=\"Go to the start page\",\n                           command=lambda: controller.show_frame(\"StartPage\"))\n        button.pack()\n\n        button2 = tk.Button(self, text=\"Add customer\",command = self.add_customer)\n        button2.pack()\n    \n        #Name Label\n\n        label2 = tk.Label(self, text=\"Name\", font=controller.title_font, bg = \"lightsteelblue4\", fg = \"lightblue\")\n        label2.pack(side=\"top\", fill=\"x\", pady=10)\n        label2.place(x=100 ,y=250)\n\n        # phone Label\n                \n        label3 = tk.Label(self, text=\"Phone\", font=controller.title_font, bg = \"lightsteelblue4\", fg = \"lightblue\")\n        label3.pack(side=\"top\", fill=\"x\", pady=10)\n        label3.place(x=100 ,y=350)\n        \n        # Entries for all labels============================================================\n        \n        self.name_ent = tk.Entry(self, width=30)\n        self.name_ent.place(x=250,y=250)\n        \n        self.phone_ent = tk.Entry(self, width=30)\n        self.phone_ent.place(x=250,y=350)\n        \n    def add_customer(self):\n        print(\"Cust added\")\n    \n            # getting the user inputs\n        self.val1 = self.name_ent.get()\n\n        self.val6 = self.phone_ent.get()\n\n         # checking if the user input is empty\n        if self.val1 == '' or self.val6 == '':\n            tkMessageBox.showinfo(\"Warning\", \"Please Fill Up All Boxes\")\n        else:\n                # now we add to the database\n            sql = \"INSERT INTO 'customer' (c_name, c_phone) VALUES(?, ?)\"\n            c.execute(sql, (self.val1, self.val6))\n            conn.commit()\n            tkMessageBox.showinfo(\"Success\", \"Customer \" +str(self.val1) + \" has been added\" )\n\n\n#Frame for employee registration\nclass PageTwo(tk.Frame):\n    def __init__(self, parent, controller):\n        tk.Frame.__init__(self, parent, bg = \"lightsteelblue4\")\n        self.controller = controller\n        \n        label = tk.Label(self, text=\"Employee registration\", font=controller.title_font)\n        label.pack(side=\"top\", fill=\"x\", pady=10)\n        \n        button = tk.Button(self, text=\"Go to the start page\",command=lambda: controller.show_frame(\"StartPage\"))\n        button.pack()\n        \n        button2 = tk.Button(self, text=\"Add Employee\",command = self.add_employee)\n        button2.pack()\n    \n        #ID\n        \n        label2 = tk.Label(self, text=\"ID\", font=controller.title_font, bg = \"lightsteelblue4\", fg = \"lightblue\")\n        label2.pack(side=\"top\", fill=\"x\", pady=10)\n        label2.place(x=100 ,y=250)\n        \n        #name\n        \n        label3 = tk.Label(self, text=\"name\", font=controller.title_font, bg = \"lightsteelblue4\", fg = \"lightblue\")\n        label3.pack(side=\"top\", fill=\"x\", pady=10)\n        label3.place(x=100 ,y=350)\n\n        \n        # Entries for all labels============================================================\n\n        self.id_ent = tk.Entry(self, width=30)\n        self.id_ent.place(x=250,y=250)\n\n    def add_employee(self):\n    \n       # getting the user inputs\n        self.val1 = self.id_ent.get()\n        self.val2 = self.name_ent.get()\n        self.val3 = self.salary_ent.get()\n        self.val4 = self.dept_name_ent.get()\n        self.val5 = self.e_phone_ent.get()\n    \n        # checking if the user input is empty\n        if self.val1 == '' or self.val2 == '' or self.val3 == '' or self.val4 == '' or self.val5 == '':\n            tkMessageBox.showinfo(\"Warning\", \"Please Fill Up All Boxes\")\n        else:\n            print(\"Employee added\")\n               # now we add to the database\n            sql = \"INSERT INTO 'employee' (ID,name,dept_name,salary,e_phone) VALUES(?, ?, ?, ?, ?)\"\n            c.execute(sql, (self.val1, self.val2, self.val4, self.val3, self.val5))\n            conn.commit()\n            tkMessageBox.showinfo(\"Success\", \"Employee \" +str(self.val1) + \" has been added\" )\n\n        \n\nif __name__ == \"__main__\":\n    app = SampleApp()\n    app.geometry(\"800x720+0+0\")\n    app.resizable(True, True)\n    app.mainloop()\n    \n\n\n",
      "execution_count": 1,
      "outputs": [
        {
          "output_type": "stream",
          "text": "/home/nbuser/anaconda3_501/lib/python3.6/site-packages/ipykernel/__main__.py:8: UserWarning: matplotlib.pyplot as already been imported, this call will have no effect.\n",
          "name": "stderr"
        },
        {
          "output_type": "stream",
          "text": "Connected Successfully\n",
          "name": "stdout"
        },
        {
          "output_type": "error",
          "ename": "TclError",
          "evalue": "no display name and no $DISPLAY environment variable",
          "traceback": [
            "\u001b[0;31m---------------------------------------------------------------------------\u001b[0m",
            "\u001b[0;31mTclError\u001b[0m                                  Traceback (most recent call last)",
            "\u001b[0;32m<ipython-input-1-251b2a95106f>\u001b[0m in \u001b[0;36m<module>\u001b[0;34m\u001b[0m\n\u001b[1;32m    180\u001b[0m \u001b[0;34m\u001b[0m\u001b[0m\n\u001b[1;32m    181\u001b[0m \u001b[0;32mif\u001b[0m \u001b[0m__name__\u001b[0m \u001b[0;34m==\u001b[0m \u001b[0;34m\"__main__\"\u001b[0m\u001b[0;34m:\u001b[0m\u001b[0;34m\u001b[0m\u001b[0m\n\u001b[0;32m--> 182\u001b[0;31m     \u001b[0mapp\u001b[0m \u001b[0;34m=\u001b[0m \u001b[0mSampleApp\u001b[0m\u001b[0;34m(\u001b[0m\u001b[0;34m)\u001b[0m\u001b[0;34m\u001b[0m\u001b[0m\n\u001b[0m\u001b[1;32m    183\u001b[0m     \u001b[0mapp\u001b[0m\u001b[0;34m.\u001b[0m\u001b[0mgeometry\u001b[0m\u001b[0;34m(\u001b[0m\u001b[0;34m\"800x720+0+0\"\u001b[0m\u001b[0;34m)\u001b[0m\u001b[0;34m\u001b[0m\u001b[0m\n\u001b[1;32m    184\u001b[0m     \u001b[0mapp\u001b[0m\u001b[0;34m.\u001b[0m\u001b[0mresizable\u001b[0m\u001b[0;34m(\u001b[0m\u001b[0;32mTrue\u001b[0m\u001b[0;34m,\u001b[0m \u001b[0;32mTrue\u001b[0m\u001b[0;34m)\u001b[0m\u001b[0;34m\u001b[0m\u001b[0m\n",
            "\u001b[0;32m<ipython-input-1-251b2a95106f>\u001b[0m in \u001b[0;36m__init__\u001b[0;34m(self, *args, **kwargs)\u001b[0m\n\u001b[1;32m     18\u001b[0m \u001b[0;34m\u001b[0m\u001b[0m\n\u001b[1;32m     19\u001b[0m     \u001b[0;32mdef\u001b[0m \u001b[0m__init__\u001b[0m\u001b[0;34m(\u001b[0m\u001b[0mself\u001b[0m\u001b[0;34m,\u001b[0m \u001b[0;34m*\u001b[0m\u001b[0margs\u001b[0m\u001b[0;34m,\u001b[0m \u001b[0;34m**\u001b[0m\u001b[0mkwargs\u001b[0m\u001b[0;34m)\u001b[0m\u001b[0;34m:\u001b[0m\u001b[0;34m\u001b[0m\u001b[0m\n\u001b[0;32m---> 20\u001b[0;31m         \u001b[0mtk\u001b[0m\u001b[0;34m.\u001b[0m\u001b[0mTk\u001b[0m\u001b[0;34m.\u001b[0m\u001b[0m__init__\u001b[0m\u001b[0;34m(\u001b[0m\u001b[0mself\u001b[0m\u001b[0;34m,\u001b[0m \u001b[0;34m*\u001b[0m\u001b[0margs\u001b[0m\u001b[0;34m,\u001b[0m \u001b[0;34m**\u001b[0m\u001b[0mkwargs\u001b[0m\u001b[0;34m)\u001b[0m\u001b[0;34m\u001b[0m\u001b[0m\n\u001b[0m\u001b[1;32m     21\u001b[0m \u001b[0;34m\u001b[0m\u001b[0m\n\u001b[1;32m     22\u001b[0m         \u001b[0mself\u001b[0m\u001b[0;34m.\u001b[0m\u001b[0mtitle_font\u001b[0m \u001b[0;34m=\u001b[0m \u001b[0mtkfont\u001b[0m\u001b[0;34m.\u001b[0m\u001b[0mFont\u001b[0m\u001b[0;34m(\u001b[0m\u001b[0mfamily\u001b[0m\u001b[0;34m=\u001b[0m\u001b[0;34m'Helvetica'\u001b[0m\u001b[0;34m,\u001b[0m \u001b[0msize\u001b[0m\u001b[0;34m=\u001b[0m\u001b[0;36m18\u001b[0m\u001b[0;34m,\u001b[0m \u001b[0mweight\u001b[0m\u001b[0;34m=\u001b[0m\u001b[0;34m\"bold\"\u001b[0m\u001b[0;34m,\u001b[0m \u001b[0mslant\u001b[0m\u001b[0;34m=\u001b[0m\u001b[0;34m\"italic\"\u001b[0m\u001b[0;34m)\u001b[0m\u001b[0;34m\u001b[0m\u001b[0m\n",
            "\u001b[0;32m~/anaconda3_501/lib/python3.6/tkinter/__init__.py\u001b[0m in \u001b[0;36m__init__\u001b[0;34m(self, screenName, baseName, className, useTk, sync, use)\u001b[0m\n\u001b[1;32m   2018\u001b[0m                 \u001b[0mbaseName\u001b[0m \u001b[0;34m=\u001b[0m \u001b[0mbaseName\u001b[0m \u001b[0;34m+\u001b[0m \u001b[0mext\u001b[0m\u001b[0;34m\u001b[0m\u001b[0m\n\u001b[1;32m   2019\u001b[0m         \u001b[0minteractive\u001b[0m \u001b[0;34m=\u001b[0m \u001b[0;36m0\u001b[0m\u001b[0;34m\u001b[0m\u001b[0m\n\u001b[0;32m-> 2020\u001b[0;31m         \u001b[0mself\u001b[0m\u001b[0;34m.\u001b[0m\u001b[0mtk\u001b[0m \u001b[0;34m=\u001b[0m \u001b[0m_tkinter\u001b[0m\u001b[0;34m.\u001b[0m\u001b[0mcreate\u001b[0m\u001b[0;34m(\u001b[0m\u001b[0mscreenName\u001b[0m\u001b[0;34m,\u001b[0m \u001b[0mbaseName\u001b[0m\u001b[0;34m,\u001b[0m \u001b[0mclassName\u001b[0m\u001b[0;34m,\u001b[0m \u001b[0minteractive\u001b[0m\u001b[0;34m,\u001b[0m \u001b[0mwantobjects\u001b[0m\u001b[0;34m,\u001b[0m \u001b[0museTk\u001b[0m\u001b[0;34m,\u001b[0m \u001b[0msync\u001b[0m\u001b[0;34m,\u001b[0m \u001b[0muse\u001b[0m\u001b[0;34m)\u001b[0m\u001b[0;34m\u001b[0m\u001b[0m\n\u001b[0m\u001b[1;32m   2021\u001b[0m         \u001b[0;32mif\u001b[0m \u001b[0museTk\u001b[0m\u001b[0;34m:\u001b[0m\u001b[0;34m\u001b[0m\u001b[0m\n\u001b[1;32m   2022\u001b[0m             \u001b[0mself\u001b[0m\u001b[0;34m.\u001b[0m\u001b[0m_loadtk\u001b[0m\u001b[0;34m(\u001b[0m\u001b[0;34m)\u001b[0m\u001b[0;34m\u001b[0m\u001b[0m\n",
            "\u001b[0;31mTclError\u001b[0m: no display name and no $DISPLAY environment variable"
          ]
        }
      ]
    },
    {
      "metadata": {
        "trusted": true
      },
      "cell_type": "code",
      "source": "",
      "execution_count": null,
      "outputs": []
    }
  ],
  "metadata": {
    "kernelspec": {
      "name": "python36",
      "display_name": "Python 3.6",
      "language": "python"
    },
    "language_info": {
      "mimetype": "text/x-python",
      "nbconvert_exporter": "python",
      "name": "python",
      "pygments_lexer": "ipython3",
      "version": "3.6.6",
      "file_extension": ".py",
      "codemirror_mode": {
        "version": 3,
        "name": "ipython"
      }
    }
  },
  "nbformat": 4,
  "nbformat_minor": 2
}