{
  "cells": [
    {
      "metadata": {},
      "cell_type": "markdown",
      "source": "# Import Statements"
    },
    {
      "metadata": {
        "trusted": true
      },
      "cell_type": "code",
      "source": "import pandas as pd",
      "execution_count": 103,
      "outputs": []
    },
    {
      "metadata": {
        "trusted": true
      },
      "cell_type": "code",
      "source": "import numpy as np\n",
      "execution_count": 104,
      "outputs": []
    },
    {
      "metadata": {
        "trusted": true
      },
      "cell_type": "code",
      "source": "from sklearn.naive_bayes import GaussianNB\n",
      "execution_count": 105,
      "outputs": []
    },
    {
      "metadata": {
        "trusted": true
      },
      "cell_type": "code",
      "source": "from sklearn.model_selection import train_test_split\n",
      "execution_count": 106,
      "outputs": []
    },
    {
      "metadata": {
        "trusted": true
      },
      "cell_type": "code",
      "source": "from sklearn import  metrics",
      "execution_count": 107,
      "outputs": []
    },
    {
      "metadata": {
        "trusted": true
      },
      "cell_type": "code",
      "source": "import matplotlib.pyplot as plt",
      "execution_count": 108,
      "outputs": []
    },
    {
      "metadata": {},
      "cell_type": "markdown",
      "source": "# Read Data from Dataset"
    },
    {
      "metadata": {
        "trusted": true
      },
      "cell_type": "code",
      "source": "data = pd.read_csv(\"framingham.csv\")",
      "execution_count": 109,
      "outputs": []
    },
    {
      "metadata": {
        "trusted": true
      },
      "cell_type": "markdown",
      "source": "# Preprocessing the Data"
    },
    {
      "metadata": {
        "trusted": true
      },
      "cell_type": "code",
      "source": "",
      "execution_count": null,
      "outputs": []
    },
    {
      "metadata": {},
      "cell_type": "markdown",
      "source": "# Preprocessing education Column"
    },
    {
      "metadata": {
        "trusted": true
      },
      "cell_type": "code",
      "source": "",
      "execution_count": null,
      "outputs": []
    },
    {
      "metadata": {
        "trusted": true
      },
      "cell_type": "code",
      "source": "#data[\"education\"].mean()",
      "execution_count": 110,
      "outputs": [
        {
          "output_type": "execute_result",
          "execution_count": 110,
          "data": {
            "text/plain": "1.9794437726723095"
          },
          "metadata": {}
        }
      ]
    },
    {
      "metadata": {
        "trusted": true
      },
      "cell_type": "code",
      "source": "#z = round(data[\"education\"].mean())\n#z",
      "execution_count": 111,
      "outputs": [
        {
          "output_type": "execute_result",
          "execution_count": 111,
          "data": {
            "text/plain": "2"
          },
          "metadata": {}
        }
      ]
    },
    {
      "metadata": {
        "trusted": true
      },
      "cell_type": "code",
      "source": "data[\"education\"] = data[\"education\"].fillna(round(data[\"education\"].mean()))\n",
      "execution_count": 112,
      "outputs": []
    },
    {
      "metadata": {
        "trusted": true
      },
      "cell_type": "code",
      "source": "#data[\"education\"][36]",
      "execution_count": 113,
      "outputs": [
        {
          "output_type": "execute_result",
          "execution_count": 113,
          "data": {
            "text/plain": "2.0"
          },
          "metadata": {}
        }
      ]
    },
    {
      "metadata": {},
      "cell_type": "markdown",
      "source": "# Preprocessing cigsPerDay Column"
    },
    {
      "metadata": {
        "trusted": true,
        "scrolled": true
      },
      "cell_type": "code",
      "source": "#data[\"cigsPerDay\"].mean()",
      "execution_count": 114,
      "outputs": [
        {
          "output_type": "execute_result",
          "execution_count": 114,
          "data": {
            "text/plain": "9.005936832106388"
          },
          "metadata": {}
        }
      ]
    },
    {
      "metadata": {
        "trusted": true
      },
      "cell_type": "code",
      "source": "#z = round(data[\"cigsPerDay\"].mean())\n#z",
      "execution_count": 115,
      "outputs": [
        {
          "output_type": "execute_result",
          "execution_count": 115,
          "data": {
            "text/plain": "9"
          },
          "metadata": {}
        }
      ]
    },
    {
      "metadata": {
        "trusted": true
      },
      "cell_type": "code",
      "source": "data[\"cigsPerDay\"] = data[\"cigsPerDay\"].fillna(round(data[\"cigsPerDay\"].mean()))\n",
      "execution_count": 116,
      "outputs": []
    },
    {
      "metadata": {},
      "cell_type": "markdown",
      "source": "# Preprocessing BPMeds Column"
    },
    {
      "metadata": {
        "trusted": true
      },
      "cell_type": "code",
      "source": "#data[\"BPMeds\"].mean()",
      "execution_count": 117,
      "outputs": [
        {
          "output_type": "execute_result",
          "execution_count": 117,
          "data": {
            "text/plain": "0.029615476474802963"
          },
          "metadata": {}
        }
      ]
    },
    {
      "metadata": {
        "trusted": true
      },
      "cell_type": "code",
      "source": "#z = round(data[\"BPMeds\"].mean())\n#z",
      "execution_count": 118,
      "outputs": [
        {
          "output_type": "execute_result",
          "execution_count": 118,
          "data": {
            "text/plain": "0"
          },
          "metadata": {}
        }
      ]
    },
    {
      "metadata": {
        "trusted": true
      },
      "cell_type": "code",
      "source": "data[\"BPMeds\"] = data[\"BPMeds\"].fillna(round(data[\"BPMeds\"].mean()))\n",
      "execution_count": 119,
      "outputs": []
    },
    {
      "metadata": {},
      "cell_type": "markdown",
      "source": "# Preprocessing totChol Column\n"
    },
    {
      "metadata": {
        "trusted": true
      },
      "cell_type": "code",
      "source": "#data[\"totChol\"].mean()",
      "execution_count": 120,
      "outputs": [
        {
          "output_type": "execute_result",
          "execution_count": 120,
          "data": {
            "text/plain": "236.69952267303103"
          },
          "metadata": {}
        }
      ]
    },
    {
      "metadata": {
        "trusted": true
      },
      "cell_type": "code",
      "source": "#z = round(data[\"totChol\"].mean())\n#z",
      "execution_count": 121,
      "outputs": [
        {
          "output_type": "execute_result",
          "execution_count": 121,
          "data": {
            "text/plain": "237"
          },
          "metadata": {}
        }
      ]
    },
    {
      "metadata": {
        "trusted": true
      },
      "cell_type": "code",
      "source": "data[\"totChol\"] = data[\"totChol\"].fillna(round(data[\"totChol\"].mean()))\n",
      "execution_count": 122,
      "outputs": []
    },
    {
      "metadata": {},
      "cell_type": "markdown",
      "source": "# Preprocessing BMI Column\n"
    },
    {
      "metadata": {
        "trusted": true
      },
      "cell_type": "code",
      "source": "#data[\"BMI\"].mean()",
      "execution_count": 123,
      "outputs": [
        {
          "output_type": "execute_result",
          "execution_count": 123,
          "data": {
            "text/plain": "25.800800758114182"
          },
          "metadata": {}
        }
      ]
    },
    {
      "metadata": {
        "trusted": true
      },
      "cell_type": "code",
      "source": "data[\"BMI\"] = data[\"BMI\"].fillna(data[\"BMI\"].mean())\n",
      "execution_count": 124,
      "outputs": []
    },
    {
      "metadata": {},
      "cell_type": "markdown",
      "source": "# Preprocessing heartRate Column\n"
    },
    {
      "metadata": {
        "trusted": true
      },
      "cell_type": "code",
      "source": "",
      "execution_count": null,
      "outputs": []
    },
    {
      "metadata": {
        "trusted": true
      },
      "cell_type": "code",
      "source": "#data[\"heartRate\"].mean()",
      "execution_count": 125,
      "outputs": [
        {
          "output_type": "execute_result",
          "execution_count": 125,
          "data": {
            "text/plain": "75.87898089171975"
          },
          "metadata": {}
        }
      ]
    },
    {
      "metadata": {
        "trusted": true
      },
      "cell_type": "code",
      "source": "#z = round(data[\"heartRate\"].mean())\n#z",
      "execution_count": 126,
      "outputs": [
        {
          "output_type": "execute_result",
          "execution_count": 126,
          "data": {
            "text/plain": "76"
          },
          "metadata": {}
        }
      ]
    },
    {
      "metadata": {
        "trusted": true
      },
      "cell_type": "code",
      "source": "data[\"heartRate\"] = data[\"heartRate\"].fillna(round(data[\"heartRate\"].mean()))\n",
      "execution_count": 127,
      "outputs": []
    },
    {
      "metadata": {},
      "cell_type": "markdown",
      "source": "# Preprocessing glucose Column\n"
    },
    {
      "metadata": {
        "trusted": true
      },
      "cell_type": "code",
      "source": "#data[\"glucose\"].mean()",
      "execution_count": 128,
      "outputs": [
        {
          "output_type": "execute_result",
          "execution_count": 128,
          "data": {
            "text/plain": "81.96365524402907"
          },
          "metadata": {}
        }
      ]
    },
    {
      "metadata": {
        "trusted": true
      },
      "cell_type": "code",
      "source": "#z = round(data[\"glucose\"].mean())\n#z",
      "execution_count": 129,
      "outputs": [
        {
          "output_type": "execute_result",
          "execution_count": 129,
          "data": {
            "text/plain": "82"
          },
          "metadata": {}
        }
      ]
    },
    {
      "metadata": {
        "trusted": true
      },
      "cell_type": "code",
      "source": "data[\"glucose\"] = data[\"glucose\"].fillna(round(data[\"glucose\"].mean()))\n",
      "execution_count": 130,
      "outputs": []
    },
    {
      "metadata": {
        "trusted": true
      },
      "cell_type": "code",
      "source": "",
      "execution_count": null,
      "outputs": []
    },
    {
      "metadata": {
        "trusted": true
      },
      "cell_type": "code",
      "source": "features = data[[\"male\", \"age\", \"education\", \"currentSmoker\",\"cigsPerDay\",\"BPMeds\",\"prevalentStroke\",\"prevalentHyp\",\"diabetes\",\"totChol\",\"sysBP\",\"diaBP\",\"BMI\",\"heartRate\",\"glucose\"]]",
      "execution_count": 131,
      "outputs": []
    },
    {
      "metadata": {
        "trusted": true
      },
      "cell_type": "code",
      "source": "targetVariable = data[\"TenYearCHD\"]",
      "execution_count": 132,
      "outputs": []
    },
    {
      "metadata": {
        "trusted": true
      },
      "cell_type": "code",
      "source": "#targetVariable",
      "execution_count": 133,
      "outputs": [
        {
          "output_type": "execute_result",
          "execution_count": 133,
          "data": {
            "text/plain": "0       0\n1       0\n2       0\n3       1\n4       0\n5       0\n6       1\n7       0\n8       0\n9       0\n10      0\n11      0\n12      0\n13      0\n14      0\n15      1\n16      0\n17      1\n18      0\n19      0\n20      0\n21      0\n22      0\n23      0\n24      0\n25      1\n26      0\n27      0\n28      1\n29      0\n       ..\n4210    0\n4211    0\n4212    0\n4213    1\n4214    1\n4215    0\n4216    0\n4217    0\n4218    0\n4219    0\n4220    1\n4221    1\n4222    0\n4223    1\n4224    0\n4225    0\n4226    1\n4227    0\n4228    0\n4229    0\n4230    0\n4231    0\n4232    1\n4233    1\n4234    0\n4235    0\n4236    0\n4237    0\n4238    0\n4239    0\nName: TenYearCHD, Length: 4240, dtype: int64"
          },
          "metadata": {}
        }
      ]
    },
    {
      "metadata": {
        "trusted": true
      },
      "cell_type": "code",
      "source": "features_data=data.iloc[1:data.shape[0],0:15]\nprint(features_data)\n\ntarget_data=data.iloc[1:data.shape[0],15:16]\nprint(target_data)",
      "execution_count": 134,
      "outputs": [
        {
          "output_type": "stream",
          "text": "      male  age  education  currentSmoker  cigsPerDay  BPMeds  \\\n1        0   46        2.0              0         0.0     0.0   \n2        1   48        1.0              1        20.0     0.0   \n3        0   61        3.0              1        30.0     0.0   \n4        0   46        3.0              1        23.0     0.0   \n5        0   43        2.0              0         0.0     0.0   \n6        0   63        1.0              0         0.0     0.0   \n7        0   45        2.0              1        20.0     0.0   \n8        1   52        1.0              0         0.0     0.0   \n9        1   43        1.0              1        30.0     0.0   \n10       0   50        1.0              0         0.0     0.0   \n11       0   43        2.0              0         0.0     0.0   \n12       1   46        1.0              1        15.0     0.0   \n13       0   41        3.0              0         0.0     1.0   \n14       0   39        2.0              1         9.0     0.0   \n15       0   38        2.0              1        20.0     0.0   \n16       1   48        3.0              1        10.0     0.0   \n17       0   46        2.0              1        20.0     0.0   \n18       0   38        2.0              1         5.0     0.0   \n19       1   41        2.0              0         0.0     0.0   \n20       0   42        2.0              1        30.0     0.0   \n21       0   43        1.0              0         0.0     0.0   \n22       0   52        1.0              0         0.0     0.0   \n23       0   52        3.0              1        20.0     0.0   \n24       1   44        2.0              1        30.0     0.0   \n25       1   47        4.0              1        20.0     0.0   \n26       0   60        1.0              0         0.0     0.0   \n27       1   35        2.0              1        20.0     0.0   \n28       0   61        3.0              0         0.0     0.0   \n29       0   60        1.0              0         0.0     0.0   \n30       1   36        4.0              1        35.0     0.0   \n...    ...  ...        ...            ...         ...     ...   \n4210     1   50        1.0              0         0.0     0.0   \n4211     1   42        2.0              1        40.0     0.0   \n4212     1   48        2.0              1        43.0     0.0   \n4213     1   48        2.0              0         0.0     0.0   \n4214     0   56        3.0              1         5.0     0.0   \n4215     0   63        1.0              0         0.0     0.0   \n4216     0   59        3.0              1        20.0     0.0   \n4217     0   63        1.0              0         0.0     0.0   \n4218     0   52        1.0              0         0.0     0.0   \n4219     1   48        1.0              0         0.0     0.0   \n4220     1   60        1.0              0         0.0     0.0   \n4221     1   50        1.0              0         0.0     0.0   \n4222     1   53        3.0              0         0.0     0.0   \n4223     1   56        4.0              0         0.0     1.0   \n4224     1   47        2.0              1         3.0     0.0   \n4225     1   45        4.0              1        43.0     0.0   \n4226     1   58        1.0              0         0.0     0.0   \n4227     1   43        4.0              1        20.0     0.0   \n4228     0   50        1.0              0         0.0     0.0   \n4229     0   51        3.0              1        20.0     0.0   \n4230     0   56        1.0              1         3.0     0.0   \n4231     1   58        3.0              0         0.0     0.0   \n4232     1   68        1.0              0         0.0     0.0   \n4233     1   50        1.0              1         1.0     0.0   \n4234     1   51        3.0              1        43.0     0.0   \n4235     0   48        2.0              1        20.0     0.0   \n4236     0   44        1.0              1        15.0     0.0   \n4237     0   52        2.0              0         0.0     0.0   \n4238     1   40        3.0              0         0.0     0.0   \n4239     0   39        3.0              1        30.0     0.0   \n\n      prevalentStroke  prevalentHyp  diabetes  totChol  sysBP  diaBP    BMI  \\\n1                   0             0         0    250.0  121.0   81.0  28.73   \n2                   0             0         0    245.0  127.5   80.0  25.34   \n3                   0             1         0    225.0  150.0   95.0  28.58   \n4                   0             0         0    285.0  130.0   84.0  23.10   \n5                   0             1         0    228.0  180.0  110.0  30.30   \n6                   0             0         0    205.0  138.0   71.0  33.11   \n7                   0             0         0    313.0  100.0   71.0  21.68   \n8                   0             1         0    260.0  141.5   89.0  26.36   \n9                   0             1         0    225.0  162.0  107.0  23.61   \n10                  0             0         0    254.0  133.0   76.0  22.91   \n11                  0             0         0    247.0  131.0   88.0  27.64   \n12                  0             1         0    294.0  142.0   94.0  26.31   \n13                  0             1         0    332.0  124.0   88.0  31.31   \n14                  0             0         0    226.0  114.0   64.0  22.35   \n15                  0             1         0    221.0  140.0   90.0  21.35   \n16                  0             1         0    232.0  138.0   90.0  22.37   \n17                  0             0         0    291.0  112.0   78.0  23.38   \n18                  0             0         0    195.0  122.0   84.5  23.24   \n19                  0             0         0    195.0  139.0   88.0  26.88   \n20                  0             0         0    190.0  108.0   70.5  21.59   \n21                  0             0         0    185.0  123.5   77.5  29.89   \n22                  0             0         0    234.0  148.0   78.0  34.17   \n23                  0             0         0    215.0  132.0   82.0  25.11   \n24                  0             1         0    270.0  137.5   90.0  21.96   \n25                  0             0         0    294.0  102.0   68.0  24.18   \n26                  0             0         0    260.0  110.0   72.5  26.59   \n27                  0             1         0    225.0  132.0   91.0  26.09   \n28                  0             1         0    272.0  182.0  121.0  32.80   \n29                  0             0         0    247.0  130.0   88.0  30.36   \n30                  0             0         0    295.0  102.0   68.0  28.15   \n...               ...           ...       ...      ...    ...    ...    ...   \n4210                0             0         0    282.0  126.5   88.0  27.30   \n4211                0             0         0    245.0  105.0   70.0  22.41   \n4212                0             1         0    209.0  144.0   88.0  29.11   \n4213                0             0         0    193.0  141.0   95.0  27.89   \n4214                0             0         0    230.0  123.0   78.5  24.71   \n4215                0             1         1    236.0  155.0   82.0  39.17   \n4216                0             0         0    251.0  125.0   80.0  22.18   \n4217                0             1         0    266.0  167.0   94.0  25.23   \n4218                0             0         0    265.0  137.5   84.5  26.91   \n4219                0             0         0    204.0  125.0   84.5  22.37   \n4220                0             0         0    252.0  128.0   82.0  21.18   \n4221                0             0         0    260.0  119.0   74.0  21.85   \n4222                0             1         0    289.0  188.0  110.0  26.70   \n4223                0             1         0    287.0  149.0   98.0  21.68   \n4224                0             0         0    198.0  120.0   80.0  25.23   \n4225                0             0         0    216.0  137.5   85.0  24.24   \n4226                0             0         0    233.0  125.5   84.0  26.05   \n4227                0             0         0    187.0  129.5   88.0  25.62   \n4228                0             1         1    260.0  190.0  130.0  43.67   \n4229                0             1         0    251.0  140.0   80.0  25.60   \n4230                0             1         0    268.0  170.0  102.0  22.89   \n4231                0             1         0    187.0  141.0   81.0  24.96   \n4232                0             1         0    176.0  168.0   97.0  23.14   \n4233                0             1         0    313.0  179.0   92.0  25.97   \n4234                0             0         0    207.0  126.5   80.0  19.71   \n4235                0             0         0    248.0  131.0   72.0  22.00   \n4236                0             0         0    210.0  126.5   87.0  19.16   \n4237                0             0         0    269.0  133.5   83.0  21.47   \n4238                0             1         0    185.0  141.0   98.0  25.60   \n4239                0             0         0    196.0  133.0   86.0  20.91   \n\n      heartRate  glucose  \n1          95.0     76.0  \n2          75.0     70.0  \n3          65.0    103.0  \n4          85.0     85.0  \n5          77.0     99.0  \n6          60.0     85.0  \n7          79.0     78.0  \n8          76.0     79.0  \n9          93.0     88.0  \n10         75.0     76.0  \n11         72.0     61.0  \n12         98.0     64.0  \n13         65.0     84.0  \n14         85.0     82.0  \n15         95.0     70.0  \n16         64.0     72.0  \n17         80.0     89.0  \n18         75.0     78.0  \n19         85.0     65.0  \n20         72.0     85.0  \n21         70.0     82.0  \n22         70.0    113.0  \n23         71.0     75.0  \n24         75.0     83.0  \n25         62.0     66.0  \n26         65.0     82.0  \n27         73.0     83.0  \n28         85.0     65.0  \n29         72.0     74.0  \n30         60.0     63.0  \n...         ...      ...  \n4210       85.0     87.0  \n4211       65.0     69.0  \n4212       84.0     60.0  \n4213       75.0     84.0  \n4214       76.0     87.0  \n4215       78.0     79.0  \n4216       70.0     70.0  \n4217       95.0     94.0  \n4218       72.0     86.0  \n4219       65.0     75.0  \n4220       75.0     70.0  \n4221       80.0     72.0  \n4222       70.0     63.0  \n4223       90.0     75.0  \n4224       75.0     76.0  \n4225       83.0    105.0  \n4226       67.0     76.0  \n4227       80.0     75.0  \n4228       85.0    260.0  \n4229       75.0     82.0  \n4230       57.0     82.0  \n4231       80.0     81.0  \n4232       60.0     79.0  \n4233       66.0     86.0  \n4234       65.0     68.0  \n4235       84.0     86.0  \n4236       86.0     82.0  \n4237       80.0    107.0  \n4238       67.0     72.0  \n4239       85.0     80.0  \n\n[4239 rows x 15 columns]\n      TenYearCHD\n1              0\n2              0\n3              1\n4              0\n5              0\n6              1\n7              0\n8              0\n9              0\n10             0\n11             0\n12             0\n13             0\n14             0\n15             1\n16             0\n17             1\n18             0\n19             0\n20             0\n21             0\n22             0\n23             0\n24             0\n25             1\n26             0\n27             0\n28             1\n29             0\n30             0\n...          ...\n4210           0\n4211           0\n4212           0\n4213           1\n4214           1\n4215           0\n4216           0\n4217           0\n4218           0\n4219           0\n4220           1\n4221           1\n4222           0\n4223           1\n4224           0\n4225           0\n4226           1\n4227           0\n4228           0\n4229           0\n4230           0\n4231           0\n4232           1\n4233           1\n4234           0\n4235           0\n4236           0\n4237           0\n4238           0\n4239           0\n\n[4239 rows x 1 columns]\n",
          "name": "stdout"
        }
      ]
    },
    {
      "metadata": {
        "trusted": true
      },
      "cell_type": "code",
      "source": "# converting dataframe into arrays\nx=np.array(features_data)\ny=np.array(target_data)\n",
      "execution_count": 145,
      "outputs": []
    },
    {
      "metadata": {
        "trusted": true
      },
      "cell_type": "code",
      "source": "for z in range(100):\n    x_train,x_test,y_train,y_test = train_test_split(x,y,test_size=0.25,random_state=None)\n    # Gaussian function of sklearn\n    gnb = GaussianNB()\n    gnb.fit(x_train, y_train.ravel())\n    y_pred = gnb.predict(x_test)\n    \nprint(\"\\n\\nGaussian Naive Bayes model accuracy(in %):\", metrics.accuracy_score(y_test, y_pred)*100)\n    ",
      "execution_count": 1,
      "outputs": [
        {
          "output_type": "error",
          "ename": "NameError",
          "evalue": "name 'train_test_split' is not defined",
          "traceback": [
            "\u001b[0;31m---------------------------------------------------------------------------\u001b[0m",
            "\u001b[0;31mNameError\u001b[0m                                 Traceback (most recent call last)",
            "\u001b[0;32m<ipython-input-1-a1fd97850b0f>\u001b[0m in \u001b[0;36m<module>\u001b[0;34m\u001b[0m\n\u001b[1;32m      1\u001b[0m \u001b[0;32mfor\u001b[0m \u001b[0mz\u001b[0m \u001b[0;32min\u001b[0m \u001b[0mrange\u001b[0m\u001b[0;34m(\u001b[0m\u001b[0;36m100\u001b[0m\u001b[0;34m)\u001b[0m\u001b[0;34m:\u001b[0m\u001b[0;34m\u001b[0m\u001b[0m\n\u001b[0;32m----> 2\u001b[0;31m     \u001b[0mx_train\u001b[0m\u001b[0;34m,\u001b[0m\u001b[0mx_test\u001b[0m\u001b[0;34m,\u001b[0m\u001b[0my_train\u001b[0m\u001b[0;34m,\u001b[0m\u001b[0my_test\u001b[0m \u001b[0;34m=\u001b[0m \u001b[0mtrain_test_split\u001b[0m\u001b[0;34m(\u001b[0m\u001b[0mx\u001b[0m\u001b[0;34m,\u001b[0m\u001b[0my\u001b[0m\u001b[0;34m,\u001b[0m\u001b[0mtest_size\u001b[0m\u001b[0;34m=\u001b[0m\u001b[0;36m0.25\u001b[0m\u001b[0;34m,\u001b[0m\u001b[0mrandom_state\u001b[0m\u001b[0;34m=\u001b[0m\u001b[0;32mNone\u001b[0m\u001b[0;34m)\u001b[0m\u001b[0;34m\u001b[0m\u001b[0m\n\u001b[0m\u001b[1;32m      3\u001b[0m     \u001b[0;31m# Gaussian function of sklearn\u001b[0m\u001b[0;34m\u001b[0m\u001b[0;34m\u001b[0m\u001b[0m\n\u001b[1;32m      4\u001b[0m     \u001b[0mgnb\u001b[0m \u001b[0;34m=\u001b[0m \u001b[0mGaussianNB\u001b[0m\u001b[0;34m(\u001b[0m\u001b[0;34m)\u001b[0m\u001b[0;34m\u001b[0m\u001b[0m\n\u001b[1;32m      5\u001b[0m     \u001b[0mgnb\u001b[0m\u001b[0;34m.\u001b[0m\u001b[0mfit\u001b[0m\u001b[0;34m(\u001b[0m\u001b[0mx_train\u001b[0m\u001b[0;34m,\u001b[0m \u001b[0my_train\u001b[0m\u001b[0;34m.\u001b[0m\u001b[0mravel\u001b[0m\u001b[0;34m(\u001b[0m\u001b[0;34m)\u001b[0m\u001b[0;34m)\u001b[0m\u001b[0;34m\u001b[0m\u001b[0m\n",
            "\u001b[0;31mNameError\u001b[0m: name 'train_test_split' is not defined"
          ]
        }
      ]
    },
    {
      "metadata": {
        "trusted": true
      },
      "cell_type": "code",
      "source": "",
      "execution_count": null,
      "outputs": []
    }
  ],
  "metadata": {
    "kernelspec": {
      "name": "python36",
      "display_name": "Python 3.6",
      "language": "python"
    },
    "language_info": {
      "mimetype": "text/x-python",
      "nbconvert_exporter": "python",
      "name": "python",
      "pygments_lexer": "ipython3",
      "version": "3.6.6",
      "file_extension": ".py",
      "codemirror_mode": {
        "version": 3,
        "name": "ipython"
      }
    }
  },
  "nbformat": 4,
  "nbformat_minor": 2
}